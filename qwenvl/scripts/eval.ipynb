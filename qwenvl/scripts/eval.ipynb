{
 "cells": [
  {
   "cell_type": "code",
   "execution_count": 1,
   "id": "3223e294",
   "metadata": {},
   "outputs": [],
   "source": [
    "%load_ext autoreload\n",
    "%autoreload 2"
   ]
  },
  {
   "cell_type": "code",
   "execution_count": 17,
   "id": "2a98ed44",
   "metadata": {},
   "outputs": [],
   "source": [
    "import json\n",
    "from pathlib import Path\n",
    "from google import genai\n",
    "from google.genai import types\n",
    "\n",
    "result_path = Path(\"/scratch/xiaowenz/datasets/surgeryvid_small/results/test/Qwen2.5-VL-3B-Instruct-openbiomedvid_qa_sys_default/sys_default_usr_default/results.json\")"
   ]
  },
  {
   "cell_type": "code",
   "execution_count": 20,
   "id": "0a1f9cac",
   "metadata": {},
   "outputs": [
    {
     "data": {
      "text/plain": [
       "92579"
      ]
     },
     "execution_count": 20,
     "metadata": {},
     "output_type": "execute_result"
    }
   ],
   "source": [
    "text = result_path.read_text()\n",
    "len(text)"
   ]
  },
  {
   "cell_type": "code",
   "execution_count": null,
   "id": "b5f578ba",
   "metadata": {},
   "outputs": [],
   "source": [
    "from pydantic import BaseModel\n",
    "\n",
    "\n",
    "prompt = \"\"\"You are an expert evaluator tasked with assessing whether a model's answer to a visual question is correct.\n",
    "\n",
    "You will be given a JOSN file. Each object in the file contains four fields:\n",
    "\n",
    "```json\n",
    "[\n",
    "  {{\n",
    "    \"id\": <id of question>,\n",
    "    \"question\": <A question about visual content>,\n",
    "    \"answer\": <the ground truth (correct) answer>,\n",
    "    \"model_answer\": <The model's generated answer>\n",
    "  }}\n",
    "]\n",
    "```\n",
    "\n",
    "Your job is to determine if the `model_answer` is **semantically** correct, even if the wording differs from the ground truth.\n",
    "**DO NOT MODIFY EXISTING FIELDS**.\n",
    "Add a 5th field, `is_correct` to the new JOSN objects with the value true if the model's answer is correct, and false if it is not.\n",
    "Make sure that the value of the is_correct field of each object is based solely on data in the object, and not on any other objects in the file.\n",
    "\n",
    "{file_content}\n",
    "\"\"\"\n",
    "\n",
    "class OnePrediction(BaseModel):\n",
    "  id: int\n",
    "  question: str\n",
    "  answer: str\n",
    "  model_answer: str\n",
    "  is_correct: bool\n",
    "\n",
    "model = \"gemini-2.5-pro\"\n",
    "\n",
    "prompt = prompt.format(file_content=result_path.read_text())\n",
    "client = genai.Client()\n",
    "# file = client.files.upload(file=result_path, config={'mime_type': 'application/json'})\n",
    "response = client.models.generate_content(\n",
    "    model=model,\n",
    "    contents=[prompt],\n",
    "    config=types.GenerateContentConfig(\n",
    "      response_mime_type=\"application/json\",\n",
    "      response_schema=list[OnePrediction],\n",
    "      temperature=0,\n",
    "    )\n",
    ")\n",
    "eval_result_path = result_path.with_name(f\"{model.replace('-', '_')}_results.json\")\n",
    "with open(eval_result_path, \"w\") as f:\n",
    "  f.write(response.text)\n",
    "\n",
    "print(f\"Eval results saved to {eval_result_path}\")\n",
    "\n",
    "summary_path = result_path.with_name(\"summary.json\")\n",
    "\n",
    "total = 0\n",
    "correct = 0\n",
    "incorrect = 0\n",
    "invalid = 0\n",
    "\n",
    "with open(eval_result_path, \"r\") as f:\n",
    "  responses = json.load(f)\n",
    "for obj in responses:\n",
    "  total += 1\n",
    "  is_correct = obj.get(\"is_correct\")\n",
    "  if not isinstance(is_correct, bool):\n",
    "    invalid += 1\n",
    "    \n",
    "  if is_correct == True:\n",
    "    correct += 1\n",
    "  else:\n",
    "    incorrect += 1\n",
    "    \n",
    "accuracy = correct / total if total > 0 else 0\n",
    "valid = total - invalid\n",
    "accuracy_without_invalid = correct / valid if valid > 0 else 0\n",
    "\n",
    "summary = {\n",
    "    \"total\": total,\n",
    "    \"correct\": correct,\n",
    "    \"invalid\": invalid,\n",
    "    \"accuracy\": accuracy,\n",
    "    \"accuracy_without_invalid\": accuracy_without_invalid\n",
    "}\n",
    "\n",
    "with open(summary_path, \"w\") as f:\n",
    "  json.dump(summary, f, indent=2)\n",
    "  \n",
    "print(f\"Summary saved to {summary_path}\")\n",
    "print(summary)\n",
    "eval_results = json.load(open(eval_result_path, \"r\"))\n",
    "results = json.load(open(result_path, \"r\"))\n",
    "\n",
    "for og, gemini in zip(results, eval_results):\n",
    "  try:\n",
    "    assert og[\"id\"] == gemini[\"id\"]\n",
    "    assert og[\"question\"] == gemini[\"question\"]\n",
    "    assert og[\"answer\"] == gemini[\"answer\"]\n",
    "    assert og[\"model_answer\"] == gemini[\"model_answer\"]\n",
    "  except AssertionError as e:\n",
    "    print(og)\n",
    "    print(gemini)\n"
   ]
  }
 ],
 "metadata": {
  "kernelspec": {
   "display_name": "Python 3 (ipykernel)",
   "language": "python",
   "name": "python3"
  },
  "language_info": {
   "codemirror_mode": {
    "name": "ipython",
    "version": 3
   },
   "file_extension": ".py",
   "mimetype": "text/x-python",
   "name": "python",
   "nbconvert_exporter": "python",
   "pygments_lexer": "ipython3",
   "version": "3.11.4"
  }
 },
 "nbformat": 4,
 "nbformat_minor": 5
}
