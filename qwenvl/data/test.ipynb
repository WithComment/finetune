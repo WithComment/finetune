{
 "cells": [
  {
   "cell_type": "code",
   "execution_count": 2,
   "metadata": {},
   "outputs": [
    {
     "name": "stdout",
     "output_type": "stream",
     "text": [
      "The autoreload extension is already loaded. To reload it, use:\n",
      "  %reload_ext autoreload\n"
     ]
    }
   ],
   "source": [
    "%load_ext autoreload\n",
    "%autoreload 2\n",
    "import os\n",
    "os.chdir(\"/projects/cft_vlm/finetune/\")"
   ]
  },
  {
   "cell_type": "code",
   "execution_count": 11,
   "metadata": {},
   "outputs": [
    {
     "ename": "TypeError",
     "evalue": "ProcessorMixin.from_args_and_dict() missing 1 required positional argument: 'args'",
     "output_type": "error",
     "traceback": [
      "\u001b[0;31m---------------------------------------------------------------------------\u001b[0m",
      "\u001b[0;31mTypeError\u001b[0m                                 Traceback (most recent call last)",
      "Cell \u001b[0;32mIn[11], line 33\u001b[0m\n\u001b[1;32m     30\u001b[0m   \u001b[38;5;28;01massert\u001b[39;00m proc_from_file\u001b[38;5;241m.\u001b[39mvideo_processor\u001b[38;5;241m.\u001b[39mto_dict() \u001b[38;5;241m==\u001b[39m proc2\u001b[38;5;241m.\u001b[39mvideo_processor\u001b[38;5;241m.\u001b[39mto_dict(), \u001b[38;5;124m\"\u001b[39m\u001b[38;5;124mVideo processors do not match.\u001b[39m\u001b[38;5;124m\"\u001b[39m\n\u001b[1;32m     32\u001b[0m \u001b[38;5;66;03m# Running the test\u001b[39;00m\n\u001b[0;32m---> 33\u001b[0m \u001b[43mtest_qwen_processor\u001b[49m\u001b[43m(\u001b[49m\u001b[43m)\u001b[49m\n\u001b[1;32m     34\u001b[0m \u001b[38;5;28mprint\u001b[39m(\u001b[38;5;124m\"\u001b[39m\u001b[38;5;124mTest passed!\u001b[39m\u001b[38;5;124m\"\u001b[39m)\n",
      "Cell \u001b[0;32mIn[11], line 19\u001b[0m, in \u001b[0;36mtest_qwen_processor\u001b[0;34m()\u001b[0m\n\u001b[1;32m     17\u001b[0m     d1 \u001b[38;5;241m=\u001b[39m json\u001b[38;5;241m.\u001b[39mload(f)\n\u001b[1;32m     18\u001b[0m   \u001b[38;5;66;03m# 4. Load a processor from that JSON file\u001b[39;00m\n\u001b[0;32m---> 19\u001b[0m   proc_from_file \u001b[38;5;241m=\u001b[39m \u001b[43mQwen2_5_VLProcessor\u001b[49m\u001b[38;5;241;43m.\u001b[39;49m\u001b[43mfrom_args_and_dict\u001b[49m\u001b[43m(\u001b[49m\u001b[43mprocessor_dict\u001b[49m\u001b[38;5;241;43m=\u001b[39;49m\u001b[43md1\u001b[49m\u001b[43m)\u001b[49m\n\u001b[1;32m     21\u001b[0m \u001b[38;5;66;03m# 5. Load a fresh processor from Hugging Face and apply the same monkey patch\u001b[39;00m\n\u001b[1;32m     22\u001b[0m proc2 \u001b[38;5;241m=\u001b[39m Qwen2_5_VLProcessor\u001b[38;5;241m.\u001b[39mfrom_pretrained(\u001b[38;5;124m\"\u001b[39m\u001b[38;5;124mQwen/Qwen2.5-VL-3B-Instruct\u001b[39m\u001b[38;5;124m\"\u001b[39m)\n",
      "\u001b[0;31mTypeError\u001b[0m: ProcessorMixin.from_args_and_dict() missing 1 required positional argument: 'args'"
     ]
    }
   ],
   "source": [
    "import json\n",
    "import tempfile\n",
    "from transformers import Qwen2_5_VLProcessor\n",
    "\n",
    "def test_qwen_processor():\n",
    "  # 1. Load Qwen2.5 VL processor from Hugging Face\n",
    "  proc1 = Qwen2_5_VLProcessor.from_pretrained(\"Qwen/Qwen2.5-VL-3B-Instruct\", trust_remote_code=True)\n",
    "  \n",
    "  # 2. Monkey patch an attribute (e.g., add a new attribute)\n",
    "  proc1.monkey_patch_attr = \"patched_value\"\n",
    "  \n",
    "  # 3. Save the processor configuration to a JSON file\n",
    "  with tempfile.TemporaryDirectory() as tmpdir:\n",
    "    json_path = f\"{tmpdir}/processor.json\"\n",
    "    proc1.to_json_file(json_path)\n",
    "    with open(json_path, 'r') as f:\n",
    "      d1 = json.load(f)\n",
    "    # 4. Load a processor from that JSON file\n",
    "    proc_from_file = Qwen2_5_VLProcessor.from_args_and_dict(processor_dict=d1)\n",
    "  \n",
    "  # 5. Load a fresh processor from Hugging Face and apply the same monkey patch\n",
    "  proc2 = Qwen2_5_VLProcessor.from_pretrained(\"Qwen/Qwen2.5-VL-3B-Instruct\")\n",
    "  proc2.monkey_patch_attr = \"patched_value\"\n",
    "  \n",
    "  d1 = proc_from_file.to_dict()\n",
    "  d2 = proc2.to_dict()\n",
    "  assert \"monkey_patch_attr\" in d1, \"Monkey patch attribute not found in the first processor.\"\n",
    "  assert \"monkey_patch_attr\" in d2, \"Monkey patch attribute not found in the second processor.\"\n",
    "  assert proc_from_file.image_processor.to_dict() == proc2.image_processor.to_dict(), \"Image processors do not match.\"\n",
    "  assert proc_from_file.video_processor.to_dict() == proc2.video_processor.to_dict(), \"Video processors do not match.\"\n",
    "\n",
    "# Running the test\n",
    "test_qwen_processor()\n",
    "print(\"Test passed!\")"
   ]
  }
 ],
 "metadata": {
  "kernelspec": {
   "display_name": "cft_vlm",
   "language": "python",
   "name": "cft_vlm"
  },
  "language_info": {
   "codemirror_mode": {
    "name": "ipython",
    "version": 3
   },
   "file_extension": ".py",
   "mimetype": "text/x-python",
   "name": "python",
   "nbconvert_exporter": "python",
   "pygments_lexer": "ipython3",
   "version": "3.10.12"
  }
 },
 "nbformat": 4,
 "nbformat_minor": 2
}
