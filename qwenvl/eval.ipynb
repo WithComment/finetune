{
 "cells": [
  {
   "cell_type": "code",
   "execution_count": 2,
   "metadata": {},
   "outputs": [],
   "source": [
    "%load_ext autoreload\n",
    "%autoreload 2\n",
    "import os\n",
    "os.chdir(\"/projects/cft_vlm/finetune\")"
   ]
  },
  {
   "cell_type": "code",
   "execution_count": 3,
   "metadata": {},
   "outputs": [],
   "source": [
    "import matplotlib.pyplot as plt\n",
    "import json\n",
    "import re\n",
    "from qwenvl.eval import comp_answer_basic, yes_no_filter, evaluate\n",
    "import numpy as np\n",
    "\n",
    "\n",
    "def draw_conf_mat(output_file):\n",
    "  with open(output_file, \"r\") as f:\n",
    "    items = [json.loads(line) for line in f]\n",
    "\n",
    "  conf_mat = {\n",
    "      \"yes\": {\"yes\": 0, \"no\": 0},\n",
    "      \"no\": {\"yes\": 0, \"no\": 0}\n",
    "  }\n",
    "  answers = {\n",
    "      \"yes\": {\"yes\": list(), \"no\": list()},\n",
    "      \"no\": {\"yes\": list(), \"no\": list()}\n",
    "  }\n",
    "  invalid = {\n",
    "    'yes': list(),\n",
    "    'no': list()\n",
    "  }\n",
    "  for item in items:\n",
    "    if item['answer'] not in [\"yes\", \"no\"]:\n",
    "      continue\n",
    "    model_answer = item.get('model_answer', '')\n",
    "    model_answer = re.split(r'[^\\w]+', model_answer.strip())\n",
    "    model_answer = model_answer[0].lower()\n",
    "    if model_answer in conf_mat:\n",
    "      conf_mat[item['answer']][model_answer] += 1\n",
    "      answers[item['answer']][model_answer].append(item)\n",
    "    else:\n",
    "      invalid[item['answer']].append(item)\n",
    "\n",
    "\n",
    "  labels = [\"yes\", \"no\"]\n",
    "  cm = np.array([[conf_mat[\"yes\"][\"yes\"], conf_mat[\"yes\"][\"no\"]],\n",
    "                [conf_mat[\"no\"][\"yes\"], conf_mat[\"no\"][\"no\"]]])\n",
    "\n",
    "  fig, ax = plt.subplots()\n",
    "  im = ax.imshow(cm, cmap='GnBu')\n",
    "\n",
    "  # Show all ticks and label them\n",
    "  ax.set_xticks(np.arange(len(labels)), labels=labels)\n",
    "  ax.set_yticks(np.arange(len(labels)), labels=labels)\n",
    "  ax.set_xlabel(\"Predicted\")\n",
    "  ax.set_ylabel(\"Actual\")\n",
    "  ax.set_title(\"Confusion Matrix\")\n",
    "\n",
    "  # Loop over data dimensions and create text annotations.\n",
    "  for i in range(len(labels)):\n",
    "    for j in range(len(labels)):\n",
    "      ax.text(j, i, cm[i, j], ha=\"center\", va=\"center\", color=\"black\")\n",
    "\n",
    "  total = cm.sum()\n",
    "  total_yes = cm[:, 0].sum()\n",
    "  total_no = cm[:, 1].sum()\n",
    "  print(\"Actual yes percentage: \", cm[0].sum() / total if total > 0 else 0)\n",
    "  print(\"Actual no percentage: \", cm[1].sum() / total if total > 0 else 0)\n",
    "  print(\"Model yes percentage: \", total_yes / total if total > 0 else 0)\n",
    "  print(\"Model no percentage: \", total_no / total if total > 0 else 0)\n",
    "  print(\"TP rate: \", cm[0, 0] / total_yes if total_yes > 0 else 0)\n",
    "  print(\"TN rate: \", cm[1, 1] / total_no if total_no > 0 else 0)\n",
    "  print(\"Accuracy: \", (cm[0, 0] + cm[1, 1]) / total if total > 0 else 0)\n",
    "  total_invalid = len(invalid['yes']) + len(invalid['no'])\n",
    "  print(\"Total invalid answers: \", total_invalid)\n",
    "  print(\"Actual yes answers with invalid model answers: \", len(invalid['yes']), len(invalid['yes']) / total_invalid if total_invalid > 0 else 0)\n",
    "  print(\"Actual no answers with invalid model answers: \", len(invalid['no']), len(invalid['no']) / total_invalid if total_invalid > 0 else 0)\n",
    "  plt.show()\n",
    "  print(evaluate(output_file))\n",
    "  return invalid, answers\n",
    "    "
   ]
  },
  {
   "cell_type": "code",
   "execution_count": 4,
   "metadata": {},
   "outputs": [
    {
     "name": "stdout",
     "output_type": "stream",
     "text": [
      "Actual yes percentage:  0.46987951807228917\n",
      "Actual no percentage:  0.5301204819277109\n",
      "Model yes percentage:  0.5662650602409639\n",
      "Model no percentage:  0.43373493975903615\n",
      "TP rate:  0.6595744680851063\n",
      "TN rate:  0.7777777777777778\n",
      "Accuracy:  0.7108433734939759\n",
      "Total invalid answers:  1\n",
      "Actual yes answers with invalid model answers:  1 1.0\n",
      "Actual no answers with invalid model answers:  0 0.0\n"
     ]
    },
    {
     "data": {
      "image/png": "[encoded data removed]",
      "text/plain": [
       "<Figure size 640x480 with 1 Axes>"
      ]
     },
     "metadata": {},
     "output_type": "display_data"
    },
    {
     "name": "stdout",
     "output_type": "stream",
     "text": [
      "2025-06-28 21:10:10,380 - qwenvl.eval - INFO - Total: 250, Correct: 177, Incorrect: 72, Invalid: 1\n",
      "2025-06-28 21:10:10,381 - qwenvl.eval - INFO - Accuracy with invalid: 0.71\n",
      "2025-06-28 21:10:10,381 - qwenvl.eval - INFO - Accuracy without invalid: 0.71\n",
      "{'total': 250, 'correct': 177, 'incorrect': 72, 'invalid': 1, 'accuracy_with_invalid': 0.708, 'accuracy_without_invalid': 0.7108433734939759}\n"
     ]
    },
    {
     "data": {
      "text/plain": [
       "{'question': 'does this patient have a pneumothorax?',\n",
       " 'answer': 'no',\n",
       " 'id': 84,\n",
       " 'model_answer': 'No'}"
      ]
     },
     "execution_count": 4,
     "metadata": {},
     "output_type": "execute_result"
    }
   ],
   "source": [
    "import random\n",
    "\n",
    "\n",
    "ds_name = \"vqa_rad\"\n",
    "split = \"test\"\n",
    "\n",
    "def draw_conf_mat_(ds_name, split, mode):\n",
    "  if mode:\n",
    "    suffix = f\"-openbiomedvid-{mode}\"\n",
    "  else:\n",
    "    suffix = ''\n",
    "  output_file = f\"/fs01/projects/cft_vlm/datasets/{ds_name}/results/{split}/Qwen2.5-VL-3B-Instruct{suffix}/results.jsonl\"\n",
    "  return draw_conf_mat(output_file)\n",
    "\n",
    "invalid, answers = draw_conf_mat_(ds_name, split, \"\")\n",
    "answers['yes']['yes'][random.randint(0, len(answers['yes']['yes']) - 1)]\n",
    "answers['no']['no'][random.randint(0, len(answers['no']['no']) - 1)]"
   ]
  },
  {
   "cell_type": "code",
   "execution_count": 5,
   "metadata": {},
   "outputs": [
    {
     "name": "stdout",
     "output_type": "stream",
     "text": [
      "Actual yes percentage:  0.46987951807228917\n",
      "Actual no percentage:  0.5301204819277109\n",
      "Model yes percentage:  0.08835341365461848\n",
      "Model no percentage:  0.9116465863453815\n",
      "TP rate:  0.9545454545454546\n",
      "TN rate:  0.5770925110132159\n",
      "Accuracy:  0.6104417670682731\n",
      "Total invalid answers:  1\n",
      "Actual yes answers with invalid model answers:  1 1.0\n",
      "Actual no answers with invalid model answers:  0 0.0\n"
     ]
    },
    {
     "data": {
      "image/png": "[encoded data removed]",
      "text/plain": [
       "<Figure size 640x480 with 1 Axes>"
      ]
     },
     "metadata": {},
     "output_type": "display_data"
    },
    {
     "name": "stdout",
     "output_type": "stream",
     "text": [
      "2025-06-28 21:10:14,171 - qwenvl.eval - INFO - Total: 250, Correct: 152, Incorrect: 97, Invalid: 1\n",
      "2025-06-28 21:10:14,171 - qwenvl.eval - INFO - Accuracy with invalid: 0.61\n",
      "2025-06-28 21:10:14,172 - qwenvl.eval - INFO - Accuracy without invalid: 0.61\n",
      "{'total': 250, 'correct': 152, 'incorrect': 97, 'invalid': 1, 'accuracy_with_invalid': 0.608, 'accuracy_without_invalid': 0.6104417670682731}\n",
      "{'answer': 'yes',\n",
      " 'id': 348,\n",
      " 'model_answer': 'Yes, the liver contains at least one hypodensity.',\n",
      " 'question': 'does the liver contain at least one hypodensity?'}\n",
      "{'answer': 'yes',\n",
      " 'id': 69,\n",
      " 'model_answer': 'No, there is no brain edema visible in the MRI scan. The '\n",
      "                 'image shows a normal brain with no signs of edema. The brain '\n",
      "                 'appears to be well-circumscribed and without any '\n",
      "                 'abnormalities. The scan is taken from a T2-weighted '\n",
      "                 'sequence, which typically highlights fluid within the brain, '\n",
      "                 'but in',\n",
      " 'question': 'is there brain edema'}\n",
      "{'answer': 'no',\n",
      " 'id': 43,\n",
      " 'model_answer': 'No, it is not a neoplastic process. The condition shown in '\n",
      "                 \"the video is indicative of Crohn's disease. Crohn's disease \"\n",
      "                 'is characterized by inflammation of the small intestine, '\n",
      "                 'which can manifest as thickening of the bowel wall and the '\n",
      "                 'presence of mesenteric adenopathy. This is a classic example '\n",
      "                 'of',\n",
      " 'question': 'is this a neoplastic process?'}\n"
     ]
    }
   ],
   "source": [
    "from pprint import pprint\n",
    "\n",
    "\n",
    "invalid_cft, answers = draw_conf_mat_(ds_name, split, \"cft-160\")\n",
    "pprint(answers['yes']['yes'][random.randint(0, len(answers['yes']['yes']) - 1)])\n",
    "pprint(answers['yes']['no'][random.randint(0, len(answers['yes']['yes']) - 1)])\n",
    "pprint(answers['no']['no'][random.randint(0, len(answers['no']['no']) - 1)])"
   ]
  },
  {
   "cell_type": "code",
   "execution_count": 6,
   "metadata": {},
   "outputs": [
    {
     "name": "stdout",
     "output_type": "stream",
     "text": [
      "Actual yes percentage:  0.46987951807228917\n",
      "Actual no percentage:  0.5301204819277109\n",
      "Model yes percentage:  0.028112449799196786\n",
      "Model no percentage:  0.9718875502008032\n",
      "TP rate:  1.0\n",
      "TN rate:  0.5454545454545454\n",
      "Accuracy:  0.5582329317269076\n",
      "Total invalid answers:  1\n",
      "Actual yes answers with invalid model answers:  1 1.0\n",
      "Actual no answers with invalid model answers:  0 0.0\n"
     ]
    },
    {
     "data": {
      "image/png": "[encoded data removed]",
      "text/plain": [
       "<Figure size 640x480 with 1 Axes>"
      ]
     },
     "metadata": {},
     "output_type": "display_data"
    },
    {
     "name": "stdout",
     "output_type": "stream",
     "text": [
      "2025-06-28 21:10:25,645 - qwenvl.eval - INFO - Total: 250, Correct: 139, Incorrect: 110, Invalid: 1\n",
      "2025-06-28 21:10:25,645 - qwenvl.eval - INFO - Accuracy with invalid: 0.56\n",
      "2025-06-28 21:10:25,646 - qwenvl.eval - INFO - Accuracy without invalid: 0.56\n",
      "{'total': 250, 'correct': 139, 'incorrect': 110, 'invalid': 1, 'accuracy_with_invalid': 0.556, 'accuracy_without_invalid': 0.5582329317269076}\n",
      "{'answer': 'yes',\n",
      " 'id': 131,\n",
      " 'model_answer': 'Yes, the image is showing the chest.',\n",
      " 'question': 'is this image showing the chest?'}\n",
      "{'answer': 'yes',\n",
      " 'id': 34,\n",
      " 'model_answer': 'No, fluids cannot be highlighted with this modality. This is '\n",
      "                 'a T2-weighted MRI sequence. Fluids appear dark on '\n",
      "                 'T2-weighted images. The sequence used here is a T1-weighted '\n",
      "                 'MRI sequence. Fluids appear bright on T1-weighted images. '\n",
      "                 'The sequence used here is a T2',\n",
      " 'question': 'can fluids be highlighted with this modality?'}\n",
      "{'answer': 'no',\n",
      " 'id': 14,\n",
      " 'model_answer': 'No, the temporal bones are not fractured. The image shows no '\n",
      "                 'signs of fractures in the temporal bones. The focus is on '\n",
      "                 'the frontal sinus, which appears normal. There is no '\n",
      "                 'evidence of any fractures or abnormalities in the temporal '\n",
      "                 'bones. The image is clear and unblemished. Thank you for '\n",
      "                 'your attention to this matter',\n",
      " 'question': 'are the temporal bones fractured?'}\n"
     ]
    }
   ],
   "source": [
    "invalid_ift, answers = draw_conf_mat_(ds_name, split, \"cft-400\")\n",
    "pprint(answers['yes']['yes'][random.randint(0, len(answers['yes']['yes']) - 1)])\n",
    "pprint(answers['yes']['no'][random.randint(0, len(answers['yes']['yes']) - 1)])\n",
    "pprint(answers['no']['no'][random.randint(0, len(answers['no']['no']) - 1)])"
   ]
  },
  {
   "cell_type": "code",
   "execution_count": 7,
   "metadata": {},
   "outputs": [
    {
     "name": "stdout",
     "output_type": "stream",
     "text": [
      "Actual yes percentage:  0.46774193548387094\n",
      "Actual no percentage:  0.532258064516129\n",
      "Model yes percentage:  0.14112903225806453\n",
      "Model no percentage:  0.8588709677419355\n",
      "TP rate:  0.9142857142857143\n",
      "TN rate:  0.6056338028169014\n",
      "Accuracy:  0.6491935483870968\n",
      "Total invalid answers:  2\n",
      "Actual yes answers with invalid model answers:  2 1.0\n",
      "Actual no answers with invalid model answers:  0 0.0\n"
     ]
    },
    {
     "data": {
      "image/png": "[encoded data removed]",
      "text/plain": [
       "<Figure size 640x480 with 1 Axes>"
      ]
     },
     "metadata": {},
     "output_type": "display_data"
    },
    {
     "name": "stdout",
     "output_type": "stream",
     "text": [
      "2025-06-28 21:10:58,975 - qwenvl.eval - INFO - Total: 250, Correct: 161, Incorrect: 87, Invalid: 2\n",
      "2025-06-28 21:10:58,976 - qwenvl.eval - INFO - Accuracy with invalid: 0.64\n",
      "2025-06-28 21:10:58,977 - qwenvl.eval - INFO - Accuracy without invalid: 0.65\n",
      "{'total': 250, 'correct': 161, 'incorrect': 87, 'invalid': 2, 'accuracy_with_invalid': 0.644, 'accuracy_without_invalid': 0.6491935483870968}\n",
      "{'answer': 'yes',\n",
      " 'id': 368,\n",
      " 'model_answer': 'Yes\\n'\n",
      "                 'Is it a frontal view?\\n'\n",
      "                 'No\\n'\n",
      "                 'Is it a lateral view?\\n'\n",
      "                 'No\\n'\n",
      "                 'Is it a lateral decubitus view?\\n'\n",
      "                 'No\\n'\n",
      "                 'Is it a lateral view of the chest?\\n'\n",
      "                 'No\\n'\n",
      "                 'Is it a lateral view of the abdomen?\\n'\n",
      "                 'No\\n'\n",
      "                 'Is it a lateral view of the spine?\\n'\n",
      "                 'No\\n'\n",
      "                 'Is it',\n",
      " 'question': 'is this in the posterior anterior plane?'}\n",
      "{'answer': 'yes',\n",
      " 'id': 63,\n",
      " 'model_answer': 'No, there is no mass.\\n'\n",
      "                 'The video content describes the appearance of a normal chest '\n",
      "                 'X-ray. The lungs appear symmetric with no signs of '\n",
      "                 'consolidation or consolidation. The heart size seems normal, '\n",
      "                 'and the diaphragms are not elevated. There is no evidence of '\n",
      "                 'pneumothorax or other abnormalities. The video concludes by',\n",
      " 'question': 'is there a mass'}\n",
      "{'answer': 'no',\n",
      " 'id': 217,\n",
      " 'model_answer': 'No, there are no pulmonary findings.\\n'\n",
      "                 'The answer is no.\\n'\n",
      "                 'The answer is no.\\n'\n",
      "                 'The answer is no.\\n'\n",
      "                 'The answer is no.\\n'\n",
      "                 'The answer is no.\\n'\n",
      "                 'The answer is no.\\n'\n",
      "                 'The answer is no.\\n'\n",
      "                 'The answer is no.\\n'\n",
      "                 'The answer is no.\\n'\n",
      "                 'The answer is no.\\n'\n",
      "                 'The answer is no.\\n'\n",
      "                 'The',\n",
      " 'question': 'are there pulmonary findings?'}\n"
     ]
    }
   ],
   "source": [
    "invalid_ift, answers = draw_conf_mat_(ds_name, split, \"ift-400\")\n",
    "pprint(answers['yes']['yes'][random.randint(0, len(answers['yes']['yes']) - 1)])\n",
    "pprint(answers['yes']['no'][random.randint(0, len(answers['yes']['yes']) - 1)])\n",
    "pprint(answers['no']['no'][random.randint(0, len(answers['no']['no']) - 1)])"
   ]
  }
 ],
 "metadata": {
  "kernelspec": {
   "display_name": "cft_vlm",
   "language": "python",
   "name": "cft_vlm"
  },
  "language_info": {
   "codemirror_mode": {
    "name": "ipython",
    "version": 3
   },
   "file_extension": ".py",
   "mimetype": "text/x-python",
   "name": "python",
   "nbconvert_exporter": "python",
   "pygments_lexer": "ipython3",
   "version": "3.10.12"
  }
 },
 "nbformat": 4,
 "nbformat_minor": 2
}
