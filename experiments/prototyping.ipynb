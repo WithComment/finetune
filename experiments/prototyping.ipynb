{
 "cells": [
  {
   "cell_type": "code",
   "execution_count": 2,
   "metadata": {},
   "outputs": [],
   "source": [
    "%load_ext autoreload\n",
    "%autoreload 2\n",
    "\n",
    "import os\n",
    "os.chdir('/projects/cft_vlm/finetune')"
   ]
  },
  {
   "cell_type": "code",
   "execution_count": 3,
   "metadata": {},
   "outputs": [
    {
     "data": {
      "application/vnd.jupyter.widget-view+json": {
       "model_id": "476ff550f4a9483394c086926fc06bbc",
       "version_major": 2,
       "version_minor": 0
      },
      "text/plain": [
       "Loading checkpoint shards:   0%|          | 0/2 [00:00<?, ?it/s]"
      ]
     },
     "metadata": {},
     "output_type": "display_data"
    },
    {
     "name": "stderr",
     "output_type": "stream",
     "text": [
      "You have video processor config saved in `preprocessor.json` file which is deprecated. Video processor configs should be saved in their own `video_preprocessor.json` file. You can rename the file or load and save the processor back which renames it automatically. Loading from `preprocessor.json` will be removed in v5.0.\n"
     ]
    }
   ],
   "source": [
    "import transformers\n",
    "import torch\n",
    "from copy import deepcopy\n",
    "model = transformers.Qwen2_5_VLForConditionalGeneration.from_pretrained(\n",
    "    \"Qwen/Qwen2.5-VL-3B-Instruct\",\n",
    "    torch_dtype=torch.bfloat16,\n",
    "    device_map=\"auto\",\n",
    "    attn_implementation=\"eager\",\n",
    ")\n",
    "processor = transformers.AutoProcessor.from_pretrained(\"Qwen/Qwen2.5-VL-3B-Instruct\", use_fast=True)\n",
    "gen_config = deepcopy(model.generation_config)\n",
    "gen_config.max_new_tokens = 64\n",
    "gen_config.do_sample = False"
   ]
  },
  {
   "cell_type": "code",
   "execution_count": 4,
   "metadata": {},
   "outputs": [],
   "source": [
    "\n",
    "import logging\n",
    "\n",
    "logging.basicConfig(level=logging.ERROR)\n",
    "for name in logging.root.manager.loggerDict:\n",
    "  logging.getLogger(name).setLevel(logging.ERROR)\n"
   ]
  },
  {
   "cell_type": "code",
   "execution_count": 5,
   "metadata": {},
   "outputs": [],
   "source": [
    "import random\n",
    "from qwenvl.data.input_processor import VISION_END, VISION_START, pad_and_stack_tensors\n",
    "import matplotlib.pyplot as plt\n",
    "import datasets\n",
    "from tqdm import tqdm\n",
    "from qwenvl.argument import ProcessingArguments, DataArguments\n",
    "from qwenvl.module import create_module, create_strategies\n",
    "\n",
    "import torch.nn.functional as F"
   ]
  },
  {
   "cell_type": "markdown",
   "metadata": {},
   "source": [
    "## VQA RAD"
   ]
  },
  {
   "cell_type": "code",
   "execution_count": null,
   "metadata": {},
   "outputs": [],
   "source": [
    "\n",
    "data_args = DataArguments(\n",
    "    dataset_use='vqa_rad',\n",
    "    split='test',\n",
    "    packing=False,\n",
    "    model_max_length=512,)\n",
    "\n",
    "proc_args = ProcessingArguments(\n",
    "    use_chat_template=True,\n",
    "    sys_prompt=\"default\",\n",
    "    add_generation_prompt=True,\n",
    "    use_bf16=True\n",
    ")\n",
    "def get_attention(model, data_args, processor, proc_args, gen_config, sample):\n",
    "    strategies, cp, ip = create_strategies(processor, data_args, proc_args, rank=0)\n",
    "    ds, collate = create_module(data_args, strategies, cp, ip)\n",
    "\n",
    "    vs_id = processor.tokenizer.convert_tokens_to_ids(VISION_START)\n",
    "    ve_id = processor.tokenizer.convert_tokens_to_ids(VISION_END)\n",
    "    attns = []\n",
    "    avg_attns = []\n",
    "    results = []\n",
    "    max_len = 0\n",
    "    if sample is None:\n",
    "      sample = range(len(ds))\n",
    "    \n",
    "    with torch.no_grad():\n",
    "      for idx in tqdm(sample):\n",
    "        item = ds[idx]\n",
    "        inputs = collate(item).to(model.device)\n",
    "        vs_idx = (torch.where(torch.eq(inputs.input_ids, vs_id))[1].item())\n",
    "        ve_idx = (torch.where(torch.eq(inputs.input_ids, ve_id))[1].item())\n",
    "        output = model.generate(**inputs, return_dict_in_generate=True,\n",
    "                            output_attentions=True, generation_config=gen_config)\n",
    "        attn = [[] for _ in range(len(output.attentions[0]))]\n",
    "        gen_seq_len = output.sequences.shape[1] - inputs.input_ids.shape[1]\n",
    "        max_len = max(max_len, gen_seq_len)\n",
    "        for token_idx, token_attn in enumerate(output.attentions):\n",
    "          for layer_idx, layer_attn in enumerate(token_attn):\n",
    "            # layer.shape is [batch_size = 1, num_heads, q_len, k_len]\n",
    "            layer_attn = layer_attn.squeeze(0)\n",
    "            pad_len = gen_seq_len - token_idx - 1\n",
    "            attn[layer_idx].append(F.pad(layer_attn, (0, pad_len), value=0.0)[:, -1])\n",
    "            \n",
    "        for layer_idx, layer_attn in enumerate(attn):\n",
    "          attn[layer_idx] = torch.stack(layer_attn, dim=1).detach().cpu()\n",
    "        \n",
    "        attn = torch.stack(attn, dim=0)\n",
    "        attns.append(attn)\n",
    "        avg_attns.append(attn[..., vs_idx+1:ve_idx].mean(dim=-1))\n",
    "        generated_ids = output.sequences[0][inputs.input_ids.shape[1]:]\n",
    "        results.append(ip.tokenizer.convert_ids_to_tokens(generated_ids))\n",
    "\n",
    "    for idx, avg_attn in enumerate(avg_attns):\n",
    "      avg_attns[idx] = F.pad(avg_attn, (0, max_len - avg_attn.shape[-1]), value=torch.nan)\n",
    "    avg_attns = torch.stack(avg_attns, dim=0)\n",
    "    return attns, avg_attns, results\n",
    "  \n",
    "sample = None\n",
    "d_attns, d_avg_attns, d_results, = get_attention(model, data_args, processor, proc_args, gen_config, sample)\n",
    "proc_args = ProcessingArguments(\n",
    "  use_chat_template=True,\n",
    "  sys_prompt=\"default,just_focus\",\n",
    "  add_generation_prompt=True,\n",
    "  use_bf16=True\n",
    ")\n",
    "f_attns, f_avg_attns, f_results = get_attention(model, data_args, processor, proc_args, gen_config, sample)"
   ]
  },
  {
   "cell_type": "code",
   "execution_count": null,
   "metadata": {},
   "outputs": [],
   "source": [
    "import random\n",
    "\n",
    "layer = 1\n",
    "head_idx = 0\n",
    "fig, ax = plt.subplots(figsize=(20, 6), nrows=2, ncols=1)\n",
    "idx = random.randint(0, 100)\n",
    "ax.flat[0].plot(d_avg_attns[idx, layer, head_idx].to(torch.float32).numpy(), label='default')\n",
    "ax.flat[0].xaxis.set_ticks(range(len(d_results[idx])), labels=d_results[idx], rotation=45)\n",
    "ax.flat[0].grid()\n",
    "fig.subplots_adjust(hspace=0.6)\n",
    "ax.flat[1].plot(f_avg_attns[idx, layer, head_idx].to(torch.float32).numpy(), label='focused', color='orange')\n",
    "ax.flat[1].xaxis.set_ticks(range(len(f_results[idx])), labels=f_results[idx], rotation=45)\n",
    "ax.flat[1].grid()\n",
    "ax.flat[0].set_title(f'Average Attention Weights for Layer {layer + 1}')\n",
    "fig.legend()\n",
    "fig.show()"
   ]
  },
  {
   "cell_type": "code",
   "execution_count": null,
   "metadata": {},
   "outputs": [],
   "source": [
    "d_avg_attns.shape\n"
   ]
  },
  {
   "cell_type": "code",
   "execution_count": null,
   "metadata": {},
   "outputs": [],
   "source": [
    "fig, ax = plt.subplots(figsize=(9, 6))\n",
    "plot_avg_attn_w_interval(d_avg_attns.mean(dim=(1, 2)).to(torch.float32), f_avg_attns.mean(dim=(1, 2)).to(torch.float32), ax, None)"
   ]
  },
  {
   "cell_type": "code",
   "execution_count": null,
   "metadata": {},
   "outputs": [],
   "source": [
    "import matplotlib.pyplot as plt\n",
    "\n",
    "def plot_avg_attn_w_interval(d_avg_attns, f_avg_attns, ax, idx):\n",
    "  for avg_attns, label, color, fill_color in [\n",
    "    (d_avg_attns, 'default', '#1f77b4', 'lightblue'),  # blue variant\n",
    "    (f_avg_attns, 'focus prompt', '#d62728', 'lightcoral')     # red variant\n",
    "  ]:\n",
    "    mean = avg_attns.nanmean(dim=0).numpy()\n",
    "    q25 = torch.nanquantile(avg_attns, 0.25, dim=0).numpy()\n",
    "    q75 = torch.nanquantile(avg_attns, 0.75, dim=0).numpy()\n",
    "    ax.plot(mean, label=label, color=color, linewidth=2)\n",
    "    ax.fill_between(range(len(mean)), q25, q75, color=fill_color, alpha=0.3)\n",
    "  ax.grid(True, linestyle='--', alpha=0.6)\n",
    "  \n",
    "  if idx is not None:\n",
    "    ax.set_title(f'Layer {idx + 1}')\n",
    "  else:\n",
    "    ax.set_title('Averaged Across All Layers')\n",
    "    \n",
    "fig, axes = plt.subplots(9, 4, figsize=(16, 36))\n",
    "for idx in range(d_avg_attns.shape[1]):\n",
    "  plot_avg_attn_w_interval(d_avg_attns[:, idx].mean(dim=1).to(torch.float32), f_avg_attns[:, idx].mean(dim=1).to(torch.float32), axes.flat[idx], idx)\n",
    "\n",
    "fig.show()"
   ]
  },
  {
   "cell_type": "code",
   "execution_count": null,
   "metadata": {},
   "outputs": [],
   "source": [
    "d_avg_attns.shape"
   ]
  },
  {
   "cell_type": "code",
   "execution_count": null,
   "metadata": {},
   "outputs": [],
   "source": [
    "import os\n",
    "\n",
    "def save_attentions(folder, attns, avg_attns):\n",
    "  os.makedirs(folder, exist_ok=True)\n",
    "  torch.save(attns, os.path.join(folder, \"attns.pt\"))\n",
    "  torch.save(avg_attns, os.path.join(folder, \"avg_attns.pt\"))\n",
    "\n",
    "def load_attentions(folder):\n",
    "  attns = torch.load(os.path.join(folder, \"attns.pt\"))\n",
    "  avg_attns = torch.load(os.path.join(folder, \"avg_attns.pt\"))\n",
    "  return attns, avg_attns\n",
    "folder_name = 'd_attn_168'\n",
    "\n",
    "save_attentions('d_attn_168', d_attns, d_avg_attns)\n",
    "save_attentions('f_attn_168', f_attns, f_avg_attns)"
   ]
  },
  {
   "cell_type": "markdown",
   "metadata": {},
   "source": [
    "## MNIST"
   ]
  },
  {
   "cell_type": "code",
   "execution_count": 6,
   "metadata": {},
   "outputs": [
    {
     "name": "stdout",
     "output_type": "stream",
     "text": [
      "2025-07-22 15:34:30,074 - qwenvl.module - WARNING - CFT prompt  not found, not using it.\n",
      "2025-07-22 15:34:30,075 - qwenvl.module - INFO - Using user prompt fashion_mnist\n"
     ]
    },
    {
     "name": "stdout",
     "output_type": "stream",
     "text": [
      "2025-07-22 15:34:30,076 - qwenvl.module - INFO - Using system prompt default\n",
      "2025-07-22 15:34:30,691 - qwenvl.module - INFO - Creating module for dataset fashion_mnist with split test\n",
      "2025-07-22 15:34:31,803 - qwenvl.module - INFO - Applying strategy SaveStrategy\n",
      "2025-07-22 15:34:31,804 - qwenvl.data.preprocess - INFO - Saving dataset to /projects/cft_vlm/datasets/fasion_mnist/data/dataset.\n",
      "2025-07-22 15:34:31,893 - qwenvl.data.preprocess - INFO - Dataset split 'train' DNE or has changed. Overwriting.\n"
     ]
    },
    {
     "data": {
      "application/vnd.jupyter.widget-view+json": {
       "model_id": "8f54125108b74594a6dfdf3e5042565d",
       "version_major": 2,
       "version_minor": 0
      },
      "text/plain": [
       "Saving the dataset (0/1 shards):   0%|          | 0/60000 [00:00<?, ? examples/s]"
      ]
     },
     "metadata": {},
     "output_type": "display_data"
    },
    {
     "data": {
      "application/vnd.jupyter.widget-view+json": {
       "model_id": "658ce2e3c7fc4891b4e23e602258d563",
       "version_major": 2,
       "version_minor": 0
      },
      "text/plain": [
       "Saving the dataset (0/1 shards):   0%|          | 0/10000 [00:00<?, ? examples/s]"
      ]
     },
     "metadata": {},
     "output_type": "display_data"
    },
    {
     "name": "stdout",
     "output_type": "stream",
     "text": [
      "2025-07-22 15:34:32,701 - qwenvl.data.preprocess - INFO - Temporary dataset saved to /projects/cft_vlm/datasets/fasion_mnist/data/dataset_tmp.\n",
      "2025-07-22 15:34:32,703 - qwenvl.data.preprocess - INFO - Removed existing dataset at /projects/cft_vlm/datasets/fasion_mnist/data/dataset.\n",
      "2025-07-22 15:34:32,704 - qwenvl.data.preprocess - INFO - Dataset saved to /projects/cft_vlm/datasets/fasion_mnist/data/dataset.\n",
      "2025-07-22 15:34:32,732 - qwenvl.module - INFO - Example from dataset: [[{'image': <PIL.PngImagePlugin.PngImageFile image mode=L size=28x28 at 0x7FABDDC5B640>, 'label': 9}], [{'image': <PIL.PngImagePlugin.PngImageFile image mode=L size=28x28 at 0x7FABDDC5B6A0>, 'label': 2}]]\n",
      "2025-07-22 15:34:32,733 - qwenvl.module - INFO - Example after conversation processing: [[{'role': 'system', 'content': 'You are a helpful assistant.'}, {'role': 'user', 'content': [{'image': <PIL.PngImagePlugin.PngImageFile image mode=L size=28x28 at 0x7FABDDC5B640>}, {'text': 'Choose from the following options:\\n0. T-shirt/top\\n1. Trouser\\n2. Pullover\\n3. Dress\\n4. Coat\\n5. Sandal\\n6. Shirt\\n7. Sneaker\\n8. Bag\\n9. Ankle boot\\nAnswer with only the number corresponding to the correct option and nothing else.'}, {'text': 'What type of clothing is in this image?'}]}], [{'role': 'system', 'content': 'You are a helpful assistant.'}, {'role': 'user', 'content': [{'image': <PIL.PngImagePlugin.PngImageFile image mode=L size=28x28 at 0x7FABDDC5B6A0>}, {'text': 'Choose from the following options:\\n0. T-shirt/top\\n1. Trouser\\n2. Pullover\\n3. Dress\\n4. Coat\\n5. Sandal\\n6. Shirt\\n7. Sneaker\\n8. Bag\\n9. Ankle boot\\nAnswer with only the number corresponding to the correct option and nothing else.'}, {'text': 'What type of clothing is in this image?'}]}]]\n",
      "2025-07-22 15:34:32,734 - qwenvl.module - INFO - Example input text: <|im_start|>system\n",
      "2025-07-22 15:34:32,734 - qwenvl.module - INFO -                     You are a helpful assistant.<|im_end|>\n",
      "2025-07-22 15:34:32,735 - qwenvl.module - INFO -                     <|im_start|>user\n",
      "2025-07-22 15:34:32,736 - qwenvl.module - INFO -                     <|vision_start|><|image_pad|><|vision_end|>Choose from the following options:\n",
      "2025-07-22 15:34:32,736 - qwenvl.module - INFO -                     0. T-shirt/top\n",
      "2025-07-22 15:34:32,737 - qwenvl.module - INFO -                     1. Trouser\n",
      "2025-07-22 15:34:32,737 - qwenvl.module - INFO -                     2. Pullover\n",
      "2025-07-22 15:34:32,738 - qwenvl.module - INFO -                     3. Dress\n",
      "2025-07-22 15:34:32,738 - qwenvl.module - INFO -                     4. Coat\n",
      "2025-07-22 15:34:32,739 - qwenvl.module - INFO -                     5. Sandal\n",
      "2025-07-22 15:34:32,739 - qwenvl.module - INFO -                     6. Shirt\n",
      "2025-07-22 15:34:32,740 - qwenvl.module - INFO -                     7. Sneaker\n",
      "2025-07-22 15:34:32,740 - qwenvl.module - INFO -                     8. Bag\n",
      "2025-07-22 15:34:32,741 - qwenvl.module - INFO -                     9. Ankle boot\n",
      "2025-07-22 15:34:32,741 - qwenvl.module - INFO -                     Answer with only the number corresponding to the correct option and nothing else.What type of clothing is in this image?<|im_end|>\n",
      "2025-07-22 15:34:32,741 - qwenvl.module - INFO -                     <|im_start|>assistant\n",
      "2025-07-22 15:34:32,742 - qwenvl.module - INFO -                     \n",
      "2025-07-22 15:34:32,742 - qwenvl.module - INFO - Example target text: ['<|im_start|>assistant\\n', '<|im_start|>assistant\\n']\n",
      "2025-07-22 15:34:32,743 - qwenvl.module - INFO - Finished creating data module.\n"
     ]
    },
    {
     "name": "stderr",
     "output_type": "stream",
     "text": [
      "100%|██████████| 100/100 [00:18<00:00,  5.47it/s]\n"
     ]
    }
   ],
   "source": [
    "mnist_gen_config = deepcopy(gen_config)\n",
    "mnist_gen_config.max_new_tokens = 1\n",
    "data_args = DataArguments(\n",
    "    dataset_use='fashion_mnist',\n",
    "    split='test',\n",
    "    packing=False,\n",
    "    model_max_length=512,)\n",
    "\n",
    "proc_args = ProcessingArguments(\n",
    "    use_chat_template=True,\n",
    "    sys_prompt=\"default\",\n",
    "    usr_prompt='fashion_mnist',\n",
    "    add_generation_prompt=True,\n",
    "    use_bf16=True\n",
    ")\n",
    "\n",
    "def get_attention(model, data_args, processor, proc_args, gen_config, sample):\n",
    "    strategies, cp, ip = create_strategies(processor, data_args, proc_args, rank=0)\n",
    "    ds, collate = create_module(data_args, strategies, cp, ip)\n",
    "\n",
    "    vs_id = processor.tokenizer.convert_tokens_to_ids(VISION_START)\n",
    "    ve_id = processor.tokenizer.convert_tokens_to_ids(VISION_END)\n",
    "    attns = []\n",
    "    avg_attns = []\n",
    "    results = []\n",
    "    labels = []\n",
    "    max_len = 0\n",
    "    \n",
    "    with torch.no_grad():\n",
    "      for idx in tqdm(sample):\n",
    "        item = ds[idx]\n",
    "        label = item[0]['label']\n",
    "        inputs = collate(item).to(model.device)\n",
    "        vs_idx = (torch.where(torch.eq(inputs.input_ids, vs_id))[1].item())\n",
    "        ve_idx = (torch.where(torch.eq(inputs.input_ids, ve_id))[1].item())\n",
    "        output = model.generate(**inputs, return_dict_in_generate=True,\n",
    "                            output_attentions=True, generation_config=gen_config)\n",
    "        attn = [[] for _ in range(len(output.attentions[0]))]\n",
    "        gen_seq_len = output.sequences.shape[1] - inputs.input_ids.shape[1]\n",
    "        max_len = max(max_len, gen_seq_len)\n",
    "        for token_idx, token_attn in enumerate(output.attentions):\n",
    "          for layer_idx, layer_attn in enumerate(token_attn):\n",
    "            # layer.shape is [batch_size = 1, num_heads, q_len, k_len]\n",
    "            layer_attn = layer_attn.squeeze(0)\n",
    "            pad_len = gen_seq_len - token_idx - 1\n",
    "            attn[layer_idx].append(F.pad(layer_attn, (0, pad_len), value=0.0)[:, -1])\n",
    "            \n",
    "        for layer_idx, layer_attn in enumerate(attn):\n",
    "          attn[layer_idx] = torch.stack(layer_attn, dim=1).detach().cpu()\n",
    "        \n",
    "        attn = torch.stack(attn, dim=0)\n",
    "        attns.append(attn)\n",
    "        avg_attns.append(attn[:, :, -gen_seq_len:, vs_idx+1:ve_idx].mean(dim=-1))\n",
    "        generated_ids = output.sequences[0][inputs.input_ids.shape[1]:]\n",
    "        results.append(ip.tokenizer.convert_ids_to_tokens(generated_ids))\n",
    "        labels.append(label)\n",
    "\n",
    "    for idx, avg_attn in enumerate(avg_attns):\n",
    "      avg_attns[idx] = F.pad(avg_attn, (0, max_len - avg_attn.shape[-1]), value=torch.nan)\n",
    "    avg_attns = torch.stack(avg_attns, dim=0)\n",
    "    return attns, avg_attns, results, labels\n",
    "\n",
    "m_attns, m_avg_attns, m_results, m_labels = get_attention(model, data_args, processor, proc_args, mnist_gen_config, range(100))"
   ]
  },
  {
   "cell_type": "code",
   "execution_count": 7,
   "metadata": {},
   "outputs": [
    {
     "data": {
      "text/plain": [
       "tensor(0.4600)"
      ]
     },
     "execution_count": 7,
     "metadata": {},
     "output_type": "execute_result"
    }
   ],
   "source": [
    "def is_correct(labels, results) -> torch.Tensor:\n",
    "  correct = torch.zeros(len(labels))\n",
    "  for idx, (label, result) in enumerate(zip(labels, results)):\n",
    "    if str(label) == result[0]:\n",
    "      correct[idx] = 1\n",
    "  return correct\n",
    "\n",
    "m_avg_attns = m_avg_attns.permute(1, 2, 0, 3)  # [num_layers, num_heads, batch_size, seq_len]\n",
    "m_correct = is_correct(m_labels, m_results).view(1, 1, -1, 1).expand(m_avg_attns.shape)\n",
    "torch.mean(m_correct, dtype=torch.float)"
   ]
  },
  {
   "cell_type": "code",
   "execution_count": 10,
   "metadata": {},
   "outputs": [
    {
     "name": "stderr",
     "output_type": "stream",
     "text": [
      "/tmp/ipykernel_7042/4064117660.py:13: MatplotlibDeprecationWarning: The get_cmap function was deprecated in Matplotlib 3.7 and will be removed in 3.11. Use ``matplotlib.colormaps[name]`` or ``matplotlib.colormaps.get_cmap()`` or ``pyplot.get_cmap()`` instead.\n",
      "  coolwarm = cm.get_cmap('coolwarm').copy()\n"
     ]
    },
    {
     "data": {
      "image/png": "[encoded data removed]",
      "text/plain": [
       "<Figure size 640x480 with 2 Axes>"
      ]
     },
     "metadata": {},
     "output_type": "display_data"
    }
   ],
   "source": [
    "from scipy.stats import pearsonr\n",
    "\n",
    "corr = pearsonr(m_correct.to(torch.float32), m_avg_attns.to(torch.float32), axis=2)\n",
    "import numpy as np\n",
    "from matplotlib import cm\n",
    "\n",
    "fig, axes = plt.subplots(1, 1)\n",
    "\n",
    "mask = corr.pvalue[..., 0] > 0.05\n",
    "masked_stat = np.ma.masked_where(mask, corr.statistic[..., 0])\n",
    "masked_stat = masked_stat.T\n",
    "\n",
    "coolwarm = cm.get_cmap('coolwarm').copy()\n",
    "coolwarm.set_bad('lightgray')\n",
    "cb0 = axes.matshow(masked_stat, cmap=coolwarm, vmin=-1, vmax=1)\n",
    "fig.colorbar(cb0, ax=axes)\n",
    "fig.show()"
   ]
  },
  {
   "cell_type": "code",
   "execution_count": 11,
   "metadata": {},
   "outputs": [
    {
     "data": {
      "text/plain": [
       "PearsonRResult(statistic=array([-0.09057004], dtype=float32), pvalue=array([0.37016857], dtype=float32))"
      ]
     },
     "execution_count": 11,
     "metadata": {},
     "output_type": "execute_result"
    }
   ],
   "source": [
    "mean_result = pearsonr(m_correct.to(torch.float32).mean(dim=(0, 1)), m_avg_attns.to(torch.float32).mean(dim=(0, 1)), axis=0)\n",
    "mean_result"
   ]
  }
 ],
 "metadata": {
  "kernelspec": {
   "display_name": "cft_vlm",
   "language": "python",
   "name": "cft_vlm"
  },
  "language_info": {
   "codemirror_mode": {
    "name": "ipython",
    "version": 3
   },
   "file_extension": ".py",
   "mimetype": "text/x-python",
   "name": "python",
   "nbconvert_exporter": "python",
   "pygments_lexer": "ipython3",
   "version": "3.10.12"
  }
 },
 "nbformat": 4,
 "nbformat_minor": 2
}
