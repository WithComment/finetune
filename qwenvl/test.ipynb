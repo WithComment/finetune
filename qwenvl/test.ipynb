{
 "cells": [
  {
   "cell_type": "code",
   "execution_count": 2,
   "metadata": {},
   "outputs": [],
   "source": [
    "import datasets\n",
    "\n",
    "import json\n",
    "\n",
    "ds = datasets.Dataset.from_json('/projects/cft_vlm/openbiomedvid/processed_for_qwen_finetune.jsonl')\n",
    "with open('/projects/cft_vlm/openbiomedvid/processed_for_qwen_finetune.jsonl', 'w') as f:\n",
    "    for example in ds:\n",
    "        f.write(json.dumps(list(example)))"
   ]
  }
 ],
 "metadata": {
  "kernelspec": {
   "display_name": "cft_vlm",
   "language": "python",
   "name": "cft_vlm"
  },
  "language_info": {
   "codemirror_mode": {
    "name": "ipython",
    "version": 3
   },
   "file_extension": ".py",
   "mimetype": "text/x-python",
   "name": "python",
   "nbconvert_exporter": "python",
   "pygments_lexer": "ipython3",
   "version": "3.10.12"
  }
 },
 "nbformat": 4,
 "nbformat_minor": 2
}
