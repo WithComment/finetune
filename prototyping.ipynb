{
 "cells": [
  {
   "cell_type": "code",
   "execution_count": 1,
   "metadata": {},
   "outputs": [],
   "source": [
    "%load_ext autoreload\n",
    "%autoreload 2\n",
    "\n",
    "import os\n",
    "os.chdir('/projects/cft_vlm/finetune')"
   ]
  },
  {
   "cell_type": "code",
   "execution_count": 2,
   "metadata": {},
   "outputs": [
    {
     "name": "stderr",
     "output_type": "stream",
     "text": [
      "You have video processor config saved in `preprocessor.json` file which is deprecated. Video processor configs should be saved in their own `video_preprocessor.json` file. You can rename the file or load and save the processor back which renames it automatically. Loading from `preprocessor.json` will be removed in v5.0.\n"
     ]
    }
   ],
   "source": [
    "from transformers import AutoProcessor\n",
    "import datasets\n",
    "processor = AutoProcessor.from_pretrained(\"Qwen/Qwen2.5-VL-3B-Instruct\", use_fast=True)"
   ]
  },
  {
   "cell_type": "code",
   "execution_count": 3,
   "metadata": {},
   "outputs": [],
   "source": [
    "from qwenvl.data.vqa import VQADataset\n",
    "from qwenvl.train.argument import DataArguments, ProcessingArguments\n",
    "\n",
    "dataset = VQADataset(\n",
    "  processor=processor,\n",
    "  data_args=DataArguments(split='test'),\n",
    "  proc_args=ProcessingArguments(add_generation_prompt=True),\n",
    "  ds_key='flaviagiammarino/vqa-rad'\n",
    ")"
   ]
  },
  {
   "cell_type": "code",
   "execution_count": 4,
   "metadata": {},
   "outputs": [],
   "source": [
    "d = dataset[1:3]"
   ]
  },
  {
   "cell_type": "code",
   "execution_count": 7,
   "metadata": {},
   "outputs": [
    {
     "data": {
      "text/plain": [
       "[{'role': 'user',\n",
       "  'content': [{'type': 'image',\n",
       "    'media': [<PIL.JpegImagePlugin.JpegImageFile image mode=RGB size=1024x1291>]},\n",
       "   {'type': 'text', 'text': ['is there evidence of an aortic aneurysm?']},\n",
       "   {'type': 'text', 'text': 'Answer straightforwardly and concisely.'}]}]"
      ]
     },
     "execution_count": 7,
     "metadata": {},
     "output_type": "execute_result"
    }
   ],
   "source": [
    "dataset.make_conversation(dataset.ds.select(range(1)))"
   ]
  },
  {
   "cell_type": "code",
   "execution_count": null,
   "metadata": {},
   "outputs": [
    {
     "data": {
      "application/vnd.jupyter.widget-view+json": {
       "model_id": "5a22824dd5f64886a91ae112e057eb12",
       "version_major": 2,
       "version_minor": 0
      },
      "text/plain": [
       "Resolving data files:   0%|          | 0/350 [00:00<?, ?it/s]"
      ]
     },
     "metadata": {},
     "output_type": "display_data"
    },
    {
     "data": {
      "application/vnd.jupyter.widget-view+json": {
       "model_id": "3c996660cba440cf9dd988119800fba5",
       "version_major": 2,
       "version_minor": 0
      },
      "text/plain": [
       "Resolving data files:   0%|          | 0/44 [00:00<?, ?it/s]"
      ]
     },
     "metadata": {},
     "output_type": "display_data"
    },
    {
     "data": {
      "application/vnd.jupyter.widget-view+json": {
       "model_id": "55b0a2fbb40e475f843ac65e08e4af3c",
       "version_major": 2,
       "version_minor": 0
      },
      "text/plain": [
       "Resolving data files:   0%|          | 0/44 [00:00<?, ?it/s]"
      ]
     },
     "metadata": {},
     "output_type": "display_data"
    },
    {
     "data": {
      "application/vnd.jupyter.widget-view+json": {
       "model_id": "26e83cf8319a4582a2fcaeae6c957fb8",
       "version_major": 2,
       "version_minor": 0
      },
      "text/plain": [
       "Filter (num_proc=32):   0%|          | 0/218127 [00:00<?, ? examples/s]"
      ]
     },
     "metadata": {},
     "output_type": "display_data"
    },
    {
     "name": "stdout",
     "output_type": "stream",
     "text": [
      "Error processing image: cannot identify image file <_io.BytesIO object at 0x7f2616257e20>\n"
     ]
    }
   ],
   "source": [
    "import json\n",
    "import PIL.Image as PILImage\n",
    "from io import BytesIO\n",
    "\n",
    "def load_jsonl(example):\n",
    "  return json.loads(example['jsonl'])\n",
    "\n",
    "def filter_image(example):\n",
    "  try:\n",
    "    image = PILImage.open(BytesIO(example['jpg']['bytes']))\n",
    "    image.verify()\n",
    "    if image.height < 28 or image.width < 28:\n",
    "      return False\n",
    "  except Exception as e:\n",
    "    print(f\"Error processing image {example['image']}: {e}\")\n",
    "    return False\n",
    "  \n",
    "  return True\n",
    "\n",
    "ds = (\n",
    "  datasets.load_dataset('vector-institute/open-pmc', split='test')\n",
    "  .map(load_jsonl, num_proc=32, remove_columns=['jsonl'])\n",
    "  .cast_column('jpg', datasets.Image(decode=False))\n",
    "  .filter(filter_image, num_proc=32)\n",
    "  .cast_column('jpg', datasets.Image(decode=True))\n",
    ")"
   ]
  },
  {
   "cell_type": "code",
   "execution_count": 16,
   "metadata": {},
   "outputs": [
    {
     "data": {
      "text/plain": [
       "{'jpg': <PIL.JpegImagePlugin.JpegImageFile image mode=RGB size=210x363>,\n",
       " '__key__': 'test-0000-000000',\n",
       " '__url__': '/scratch/ssd004/scratch/xiaowenz/.cache/huggingface/hub/datasets--vector-institute--open-pmc/snapshots/a7add5e1b0d8659281931898b1377d27c0d1a2dd/test-0000.tar',\n",
       " 'PMC_ID': 'PMC10060508',\n",
       " 'image': 'test-0000-000000.jpg',\n",
       " 'sub_caption': 'Postoperative MRI indicates no spinal cord compression and no spinal canal occupancy.',\n",
       " 'full_caption': \"Typical preoperative, postoperative, and follow-up images of severe thoracolumbar burst fractures with posterior midline spinal approach for spinal canal limited decompression and 13-mm titanium mesh implantation (case #2). (A,B) True lateral digital x-rays of the patient's thoracolumbar spine before the operation showing the L1 fracture. (C,D) True lateral digital x-rays of the thoracolumbar vertebrae after the operation showing good fixation and recovery of the height of the anterior edge of the L1 vertebra. (E,F) Preoperative magnetic resonance imaging (MRI) showing L1 burst fracture, spinal cord compression, and obvious spinal canal occupancy. (G–J) Postoperative MRI indicates no spinal cord compression and no spinal canal occupancy. (I)\\xa0Postoperative computed tomography (CT) indicates a good position of the titanium mesh, screws, and titanium rods.\",\n",
       " 'intext_refs_summary': 'Radiological imaging results 1 year post-surgery demonstrate successful fusion of the bone graft within the 13-mm titanium mesh across all patients. The imaging indicates the absence of space-occupying lesions in the spinal canal of the injured vertebrae, as well as no evidence of loosening or detachment of screws and connecting rods during the follow-up period.',\n",
       " 'intext_refs': 'The radiological data 1 year after surgery showed fusion of the bone graft in the 13-mm titanium mesh in all patients. There were no space-occupying lesions in the spinal canal of the injured vertebrae and no signs of loosening and falling off of screws and connecting rods during follow-up. The imaging results of typical cases are shown inFigures\\xa01,2.',\n",
       " 'modality': 'R'}"
      ]
     },
     "execution_count": 16,
     "metadata": {},
     "output_type": "execute_result"
    }
   ],
   "source": [
    "ds[0]"
   ]
  },
  {
   "cell_type": "code",
   "execution_count": 12,
   "metadata": {},
   "outputs": [
    {
     "ename": "TypeError",
     "evalue": "a bytes-like object is required, not 'dict'",
     "output_type": "error",
     "traceback": [
      "\u001b[0;31m---------------------------------------------------------------------------\u001b[0m",
      "\u001b[0;31mTypeError\u001b[0m                                 Traceback (most recent call last)",
      "Cell \u001b[0;32mIn[12], line 1\u001b[0m\n\u001b[0;32m----> 1\u001b[0m PILImage\u001b[38;5;241m.\u001b[39mopen(\u001b[43mBytesIO\u001b[49m\u001b[43m(\u001b[49m\u001b[43mds\u001b[49m\u001b[43m[\u001b[49m\u001b[38;5;241;43m0\u001b[39;49m\u001b[43m]\u001b[49m\u001b[43m[\u001b[49m\u001b[38;5;124;43m'\u001b[39;49m\u001b[38;5;124;43mjpg\u001b[39;49m\u001b[38;5;124;43m'\u001b[39;49m\u001b[43m]\u001b[49m\u001b[43m)\u001b[49m)\n",
      "\u001b[0;31mTypeError\u001b[0m: a bytes-like object is required, not 'dict'"
     ]
    }
   ],
   "source": [
    "\n",
    "PILImage.open(BytesIO(ds[0]['jpg']))"
   ]
  },
  {
   "cell_type": "code",
   "execution_count": 11,
   "metadata": {},
   "outputs": [
    {
     "data": {
      "text/plain": [
       "1"
      ]
     },
     "execution_count": 11,
     "metadata": {},
     "output_type": "execute_result"
    }
   ],
   "source": [
    "class A:\n",
    "  a: int = 1\n",
    "  def __init__(self, q):\n",
    "    self.a = q\n",
    "\n",
    "a = A(1)\n",
    "a.a"
   ]
  },
  {
   "cell_type": "code",
   "execution_count": 12,
   "metadata": {},
   "outputs": [
    {
     "data": {
      "text/plain": [
       "1"
      ]
     },
     "execution_count": 12,
     "metadata": {},
     "output_type": "execute_result"
    }
   ],
   "source": [
    "b = A(2)\n",
    "b.a - a.a"
   ]
  },
  {
   "cell_type": "code",
   "execution_count": 3,
   "metadata": {},
   "outputs": [
    {
     "data": {
      "text/plain": [
       "[1, 2, 3]"
      ]
     },
     "execution_count": 3,
     "metadata": {},
     "output_type": "execute_result"
    }
   ],
   "source": [
    "from torch.utils.data import DataLoader\n",
    "dataloader = DataLoader([1, 2, 3])\n",
    "\n",
    "dataloader.dataset"
   ]
  }
 ],
 "metadata": {
  "kernelspec": {
   "display_name": "cft_vlm",
   "language": "python",
   "name": "cft_vlm"
  },
  "language_info": {
   "codemirror_mode": {
    "name": "ipython",
    "version": 3
   },
   "file_extension": ".py",
   "mimetype": "text/x-python",
   "name": "python",
   "nbconvert_exporter": "python",
   "pygments_lexer": "ipython3",
   "version": "3.10.12"
  }
 },
 "nbformat": 4,
 "nbformat_minor": 2
}
