{
 "cells": [
  {
   "cell_type": "code",
   "execution_count": 2,
   "metadata": {},
   "outputs": [],
   "source": [
    "%load_ext autoreload\n",
    "%autoreload 2\n",
    "import os\n",
    "os.chdir(\"/projects/cft_vlm/finetune\")"
   ]
  },
  {
   "cell_type": "code",
   "execution_count": 3,
   "metadata": {},
   "outputs": [],
   "source": [
    "import matplotlib.pyplot as plt\n",
    "import json\n",
    "import re\n",
    "from qwenvl.eval import comp_answer_basic, yes_no_filter, evaluate\n",
    "import numpy as np\n",
    "\n",
    "\n",
    "def draw_conf_mat(output_file):\n",
    "  with open(output_file, \"r\") as f:\n",
    "    items = [json.loads(line) for line in f]\n",
    "\n",
    "  conf_mat = {\n",
    "      \"yes\": {\"yes\": 0, \"no\": 0},\n",
    "      \"no\": {\"yes\": 0, \"no\": 0}\n",
    "  }\n",
    "  answers = {\n",
    "      \"yes\": {\"yes\": list(), \"no\": list()},\n",
    "      \"no\": {\"yes\": list(), \"no\": list()}\n",
    "  }\n",
    "  invalid = {\n",
    "    'yes': list(),\n",
    "    'no': list()\n",
    "  }\n",
    "  for item in items:\n",
    "    if item['answer'] not in [\"yes\", \"no\"]:\n",
    "      continue\n",
    "    model_answer = item.get('model_answer', '')\n",
    "    model_answer = re.split(r'[^\\w]+', model_answer.strip())\n",
    "    model_answer = model_answer[0].lower()\n",
    "    if model_answer in conf_mat:\n",
    "      conf_mat[item['answer']][model_answer] += 1\n",
    "      answers[item['answer']][model_answer].append(item)\n",
    "    else:\n",
    "      invalid[item['answer']].append(item)\n",
    "\n",
    "\n",
    "  labels = [\"yes\", \"no\"]\n",
    "  cm = np.array([[conf_mat[\"yes\"][\"yes\"], conf_mat[\"yes\"][\"no\"]],\n",
    "                [conf_mat[\"no\"][\"yes\"], conf_mat[\"no\"][\"no\"]]])\n",
    "\n",
    "  fig, ax = plt.subplots()\n",
    "  im = ax.imshow(cm, cmap='GnBu')\n",
    "\n",
    "  # Show all ticks and label them\n",
    "  ax.set_xticks(np.arange(len(labels)), labels=labels)\n",
    "  ax.set_yticks(np.arange(len(labels)), labels=labels)\n",
    "  ax.set_xlabel(\"Predicted\")\n",
    "  ax.set_ylabel(\"Actual\")\n",
    "  ax.set_title(\"Confusion Matrix\")\n",
    "\n",
    "  # Loop over data dimensions and create text annotations.\n",
    "  for i in range(len(labels)):\n",
    "    for j in range(len(labels)):\n",
    "      ax.text(j, i, cm[i, j], ha=\"center\", va=\"center\", color=\"black\")\n",
    "\n",
    "  total = cm.sum()\n",
    "  total_yes = cm[:, 0].sum()\n",
    "  total_no = cm[:, 1].sum()\n",
    "  print(\"Actual yes percentage: \", cm[0].sum() / total if total > 0 else 0)\n",
    "  print(\"Actual no percentage: \", cm[1].sum() / total if total > 0 else 0)\n",
    "  print(\"Model yes percentage: \", total_yes / total if total > 0 else 0)\n",
    "  print(\"Model no percentage: \", total_no / total if total > 0 else 0)\n",
    "  print(\"TP rate: \", cm[0, 0] / total_yes if total_yes > 0 else 0)\n",
    "  print(\"TN rate: \", cm[1, 1] / total_no if total_no > 0 else 0)\n",
    "  print(\"Accuracy: \", (cm[0, 0] + cm[1, 1]) / total if total > 0 else 0)\n",
    "  total_invalid = len(invalid['yes']) + len(invalid['no'])\n",
    "  print(\"Total invalid answers: \", total_invalid)\n",
    "  print(\"Actual yes answers with invalid model answers: \", len(invalid['yes']), len(invalid['yes']) / total_invalid if total_invalid > 0 else 0)\n",
    "  print(\"Actual no answers with invalid model answers: \", len(invalid['no']), len(invalid['no']) / total_invalid if total_invalid > 0 else 0)\n",
    "  plt.show()\n",
    "  print(evaluate(output_file))\n",
    "  return invalid, answers\n",
    "    "
   ]
  },
  {
   "cell_type": "code",
   "execution_count": 4,
   "metadata": {},
   "outputs": [
    {
     "name": "stdout",
     "output_type": "stream",
     "text": [
      "Actual yes percentage:  0.46987951807228917\n",
      "Actual no percentage:  0.5301204819277109\n",
      "Model yes percentage:  0.4979919678714859\n",
      "Model no percentage:  0.5020080321285141\n",
      "TP rate:  0.6532258064516129\n",
      "TN rate:  0.712\n",
      "Accuracy:  0.6827309236947792\n",
      "Total invalid answers:  1\n",
      "Actual yes answers with invalid model answers:  1 1.0\n",
      "Actual no answers with invalid model answers:  0 0.0\n"
     ]
    },
    {
     "data": {
      "image/png": "[encoded data removed]",
      "text/plain": [
       "<Figure size 640x480 with 1 Axes>"
      ]
     },
     "metadata": {},
     "output_type": "display_data"
    },
    {
     "name": "stdout",
     "output_type": "stream",
     "text": [
      "2025-07-01 14:39:54,154 - qwenvl.eval - INFO - Total: 250, Correct: 170, Incorrect: 79, Invalid: 1\n",
      "2025-07-01 14:39:54,156 - qwenvl.eval - INFO - Accuracy with invalid: 0.68\n",
      "2025-07-01 14:39:54,156 - qwenvl.eval - INFO - Accuracy without invalid: 0.68\n",
      "{'total': 250, 'correct': 170, 'incorrect': 79, 'invalid': 1, 'accuracy_with_invalid': 0.68, 'accuracy_without_invalid': 0.6827309236947792}\n"
     ]
    },
    {
     "data": {
      "text/plain": [
       "{'question': 'are the hepatic lesions ring enhancing?',\n",
       " 'answer': 'no',\n",
       " 'id': 326,\n",
       " 'model_answer': 'No'}"
      ]
     },
     "execution_count": 4,
     "metadata": {},
     "output_type": "execute_result"
    }
   ],
   "source": [
    "import random\n",
    "\n",
    "\n",
    "ds_name = \"vqa_rad\"\n",
    "split = \"test\"\n",
    "\n",
    "def draw_conf_mat_(ds_name, split, mode):\n",
    "  if mode:\n",
    "    suffix = f\"-openbiomedvid-{mode}\"\n",
    "  else:\n",
    "    suffix = ''\n",
    "  output_file = f\"/fs01/projects/cft_vlm/datasets/{ds_name}/results/{split}/Qwen2-VL-2B-Instruct{suffix}/results.jsonl\"\n",
    "  return draw_conf_mat(output_file)\n",
    "\n",
    "invalid, answers = draw_conf_mat_(ds_name, split, \"\")\n",
    "answers['yes']['yes'][random.randint(0, len(answers['yes']['yes']) - 1)]\n",
    "answers['no']['no'][random.randint(0, len(answers['no']['no']) - 1)]"
   ]
  },
  {
   "cell_type": "code",
   "execution_count": 5,
   "metadata": {},
   "outputs": [
    {
     "name": "stdout",
     "output_type": "stream",
     "text": [
      "Actual yes percentage:  0.4717741935483871\n",
      "Actual no percentage:  0.5282258064516129\n",
      "Model yes percentage:  0.008064516129032258\n",
      "Model no percentage:  0.9919354838709677\n",
      "TP rate:  1.0\n",
      "TN rate:  0.532520325203252\n",
      "Accuracy:  0.5362903225806451\n",
      "Total invalid answers:  2\n",
      "Actual yes answers with invalid model answers:  1 0.5\n",
      "Actual no answers with invalid model answers:  1 0.5\n"
     ]
    },
    {
     "data": {
      "image/png": "[encoded data removed]",
      "text/plain": [
       "<Figure size 640x480 with 1 Axes>"
      ]
     },
     "metadata": {},
     "output_type": "display_data"
    },
    {
     "name": "stdout",
     "output_type": "stream",
     "text": [
      "2025-07-01 14:40:06,026 - qwenvl.eval - INFO - Total: 250, Correct: 133, Incorrect: 115, Invalid: 2\n",
      "2025-07-01 14:40:06,028 - qwenvl.eval - INFO - Accuracy with invalid: 0.53\n",
      "2025-07-01 14:40:06,029 - qwenvl.eval - INFO - Accuracy without invalid: 0.54\n",
      "{'total': 250, 'correct': 133, 'incorrect': 115, 'invalid': 2, 'accuracy_with_invalid': 0.532, 'accuracy_without_invalid': 0.5362903225806451}\n",
      "{'answer': 'yes',\n",
      " 'id': 109,\n",
      " 'model_answer': 'Yes, it is an CT scan.\\n'\n",
      "                 'The image depicts a mass located in the left kidney, which '\n",
      "                 'is causing a mass effect on the left kidney. This mass is '\n",
      "                 'identified as a clear cell renal cell carcinoma. The mass is '\n",
      "                 'characterized by its solid nature and the presence of '\n",
      "                 'calcifications. The patient is a 58',\n",
      " 'question': 'is this a ct?'}\n",
      "[{'answer': 'yes',\n",
      "  'id': 0,\n",
      "  'model_answer': 'No, there is no evidence of an aortic aneurysm.\\n'\n",
      "                  'The image shows a pacemaker lead extending from the left '\n",
      "                  'side of the chest to the right side.\\n'\n",
      "                  'The pacemaker is positioned on the left side of the chest.\\n'\n",
      "                  'The image is a frontal view.\\n'\n",
      "                  'The pacemaker is not visible in the image',\n",
      "  'question': 'is there evidence of an aortic aneurysm?'},\n",
      " {'answer': 'yes',\n",
      "  'id': 1,\n",
      "  'model_answer': 'No, there is no airspace consolidation on the left side.\\n'\n",
      "                  'The lungs appear normal.\\n'\n",
      "                  'The right lung is slightly more opacified than the left.\\n'\n",
      "                  'The right lower lobe is more opacified than the left lower '\n",
      "                  'lobe.\\n'\n",
      "                  'The right upper lobe is more opacified than the left upper '\n",
      "                  'lobe.',\n",
      "  'question': 'is there airspace consolidation on the left side?'},\n",
      " {'answer': 'yes',\n",
      "  'id': 10,\n",
      "  'model_answer': 'No, it is not an axial image. It is a coronal image. The '\n",
      "                  'image depicts a large cystic lesion located in the right '\n",
      "                  'cerebellar hemisphere. The lesion is characterized by a '\n",
      "                  'well-defined margin and is associated with a small amount '\n",
      "                  'of surrounding edema. The lesion is not a meningioma, as',\n",
      "  'question': 'is this an axial image?'},\n",
      " {'answer': 'yes',\n",
      "  'id': 24,\n",
      "  'model_answer': 'No, there is no evidence of small bowel obstruction.\\n'\n",
      "                  'The image shows a large mass in the right lower quadrant, '\n",
      "                  'which is not indicative of obstruction.\\n'\n",
      "                  'The mass is not a tumor, as it is not a cystic mass.\\n'\n",
      "                  'The mass is not a lymphoma, as it is not a bulky mass.\\n'\n",
      "                  'The mass',\n",
      "  'question': 'is there evidence of small bowel obstruction on this image?'},\n",
      " {'answer': 'yes',\n",
      "  'id': 34,\n",
      "  'model_answer': 'No, fluids cannot be highlighted with this modality.\\n'\n",
      "                  'The image depicts a fluid collection in the left lateral '\n",
      "                  'ventricle, which is not visible on the T2-weighted image. '\n",
      "                  'The T2-weighted image is not sensitive to fluid, as it is a '\n",
      "                  'T2-weighted image. The T2-weighted',\n",
      "  'question': 'can fluids be highlighted with this modality?'}]\n",
      "{'answer': 'no',\n",
      " 'id': 215,\n",
      " 'model_answer': 'No, there is no air present.\\n'\n",
      "                 'The air is not visible in the image.\\n'\n",
      "                 'The air is not present in the body.\\n'\n",
      "                 'The air is not visible in the image.\\n'\n",
      "                 'The air is not present in the body.\\n'\n",
      "                 'The air is not visible in the image.\\n'\n",
      "                 'The air is not present in the body.\\n'\n",
      "                 'The air',\n",
      " 'question': 'is there air trapped in the body?'}\n"
     ]
    }
   ],
   "source": [
    "from pprint import pprint\n",
    "\n",
    "\n",
    "invalid_cft, answers = draw_conf_mat_(ds_name, split, \"ift\")\n",
    "pprint(answers['yes']['yes'][random.randint(0, len(answers['yes']['yes']) - 1)])\n",
    "pprint(answers['yes']['no'][:5])\n",
    "pprint(answers['no']['no'][random.randint(0, len(answers['no']['no']) - 1)])"
   ]
  },
  {
   "cell_type": "code",
   "execution_count": 12,
   "metadata": {},
   "outputs": [
    {
     "name": "stdout",
     "output_type": "stream",
     "text": [
      "Actual yes percentage:  0.46774193548387094\n",
      "Actual no percentage:  0.532258064516129\n",
      "Model yes percentage:  0.14112903225806453\n",
      "Model no percentage:  0.8588709677419355\n",
      "TP rate:  0.9142857142857143\n",
      "TN rate:  0.6056338028169014\n",
      "Accuracy:  0.6491935483870968\n",
      "Total invalid answers:  2\n",
      "Actual yes answers with invalid model answers:  2 1.0\n",
      "Actual no answers with invalid model answers:  0 0.0\n"
     ]
    },
    {
     "data": {
      "image/png": "[encoded data removed]",
      "text/plain": [
       "<Figure size 640x480 with 1 Axes>"
      ]
     },
     "metadata": {},
     "output_type": "display_data"
    },
    {
     "name": "stdout",
     "output_type": "stream",
     "text": [
      "2025-06-30 17:42:49,944 - qwenvl.eval - INFO - Total: 250, Correct: 161, Incorrect: 87, Invalid: 2\n",
      "2025-06-30 17:42:49,945 - qwenvl.eval - INFO - Accuracy with invalid: 0.64\n",
      "2025-06-30 17:42:49,945 - qwenvl.eval - INFO - Accuracy without invalid: 0.65\n",
      "{'total': 250, 'correct': 161, 'incorrect': 87, 'invalid': 2, 'accuracy_with_invalid': 0.644, 'accuracy_without_invalid': 0.6491935483870968}\n",
      "{'answer': 'yes',\n",
      " 'id': 174,\n",
      " 'model_answer': 'Yes, the trachea is midline.\\n'\n",
      "                 'The image shows a normal chest X-ray with no signs of '\n",
      "                 'pneumothorax or other abnormalities. The trachea appears to '\n",
      "                 'be centered in the midline, which is typical for a healthy '\n",
      "                 'individual. This observation confirms that the trachea is '\n",
      "                 'indeed midline.',\n",
      " 'question': 'is the trachea midline?'}\n",
      "{'answer': 'yes',\n",
      " 'id': 59,\n",
      " 'model_answer': 'No, it is not a pleural effusion.\\n'\n",
      "                 'The image shows a normal chest X-ray with no signs of '\n",
      "                 'pneumothorax or other abnormalities. The lung markings '\n",
      "                 'appear clear, and the heart size seems normal. There is no '\n",
      "                 'evidence of fluid accumulation in the pleural space. This is '\n",
      "                 'a typical example of a',\n",
      " 'question': 'is this a pleural effusion'}\n",
      "{'answer': 'no',\n",
      " 'id': 217,\n",
      " 'model_answer': 'No, there are no pulmonary findings.\\n'\n",
      "                 'The answer is no.\\n'\n",
      "                 'The answer is no.\\n'\n",
      "                 'The answer is no.\\n'\n",
      "                 'The answer is no.\\n'\n",
      "                 'The answer is no.\\n'\n",
      "                 'The answer is no.\\n'\n",
      "                 'The answer is no.\\n'\n",
      "                 'The answer is no.\\n'\n",
      "                 'The answer is no.\\n'\n",
      "                 'The answer is no.\\n'\n",
      "                 'The answer is no.\\n'\n",
      "                 'The',\n",
      " 'question': 'are there pulmonary findings?'}\n"
     ]
    }
   ],
   "source": [
    "invalid_ift, answers = draw_conf_mat_(ds_name, split, \"ift-400\")\n",
    "pprint(answers['yes']['yes'][random.randint(0, len(answers['yes']['yes']) - 1)])\n",
    "pprint(answers['yes']['no'][random.randint(0, len(answers['yes']['yes']) - 1)])\n",
    "pprint(answers['no']['no'][random.randint(0, len(answers['no']['no']) - 1)])"
   ]
  },
  {
   "cell_type": "code",
   "execution_count": 7,
   "metadata": {},
   "outputs": [
    {
     "name": "stdout",
     "output_type": "stream",
     "text": [
      "Actual yes percentage:  0.46774193548387094\n",
      "Actual no percentage:  0.532258064516129\n",
      "Model yes percentage:  0.14112903225806453\n",
      "Model no percentage:  0.8588709677419355\n",
      "TP rate:  0.9142857142857143\n",
      "TN rate:  0.6056338028169014\n",
      "Accuracy:  0.6491935483870968\n",
      "Total invalid answers:  2\n",
      "Actual yes answers with invalid model answers:  2 1.0\n",
      "Actual no answers with invalid model answers:  0 0.0\n"
     ]
    },
    {
     "data": {
      "image/png": "[encoded data removed]",
      "text/plain": [
       "<Figure size 640x480 with 1 Axes>"
      ]
     },
     "metadata": {},
     "output_type": "display_data"
    },
    {
     "name": "stdout",
     "output_type": "stream",
     "text": [
      "2025-06-28 21:10:58,975 - qwenvl.eval - INFO - Total: 250, Correct: 161, Incorrect: 87, Invalid: 2\n",
      "2025-06-28 21:10:58,976 - qwenvl.eval - INFO - Accuracy with invalid: 0.64\n",
      "2025-06-28 21:10:58,977 - qwenvl.eval - INFO - Accuracy without invalid: 0.65\n",
      "{'total': 250, 'correct': 161, 'incorrect': 87, 'invalid': 2, 'accuracy_with_invalid': 0.644, 'accuracy_without_invalid': 0.6491935483870968}\n",
      "{'answer': 'yes',\n",
      " 'id': 368,\n",
      " 'model_answer': 'Yes\\n'\n",
      "                 'Is it a frontal view?\\n'\n",
      "                 'No\\n'\n",
      "                 'Is it a lateral view?\\n'\n",
      "                 'No\\n'\n",
      "                 'Is it a lateral decubitus view?\\n'\n",
      "                 'No\\n'\n",
      "                 'Is it a lateral view of the chest?\\n'\n",
      "                 'No\\n'\n",
      "                 'Is it a lateral view of the abdomen?\\n'\n",
      "                 'No\\n'\n",
      "                 'Is it a lateral view of the spine?\\n'\n",
      "                 'No\\n'\n",
      "                 'Is it',\n",
      " 'question': 'is this in the posterior anterior plane?'}\n",
      "{'answer': 'yes',\n",
      " 'id': 63,\n",
      " 'model_answer': 'No, there is no mass.\\n'\n",
      "                 'The video content describes the appearance of a normal chest '\n",
      "                 'X-ray. The lungs appear symmetric with no signs of '\n",
      "                 'consolidation or consolidation. The heart size seems normal, '\n",
      "                 'and the diaphragms are not elevated. There is no evidence of '\n",
      "                 'pneumothorax or other abnormalities. The video concludes by',\n",
      " 'question': 'is there a mass'}\n",
      "{'answer': 'no',\n",
      " 'id': 217,\n",
      " 'model_answer': 'No, there are no pulmonary findings.\\n'\n",
      "                 'The answer is no.\\n'\n",
      "                 'The answer is no.\\n'\n",
      "                 'The answer is no.\\n'\n",
      "                 'The answer is no.\\n'\n",
      "                 'The answer is no.\\n'\n",
      "                 'The answer is no.\\n'\n",
      "                 'The answer is no.\\n'\n",
      "                 'The answer is no.\\n'\n",
      "                 'The answer is no.\\n'\n",
      "                 'The answer is no.\\n'\n",
      "                 'The answer is no.\\n'\n",
      "                 'The',\n",
      " 'question': 'are there pulmonary findings?'}\n"
     ]
    }
   ],
   "source": [
    "invalid_ift, answers = draw_conf_mat_(ds_name, split, \"ift-400\")\n",
    "pprint(answers['yes']['yes'][random.randint(0, len(answers['yes']['yes']) - 1)])\n",
    "pprint(answers['yes']['no'][random.randint(0, len(answers['yes']['yes']) - 1)])\n",
    "pprint(answers['no']['no'][random.randint(0, len(answers['no']['no']) - 1)])"
   ]
  }
 ],
 "metadata": {
  "kernelspec": {
   "display_name": "cft_vlm",
   "language": "python",
   "name": "cft_vlm"
  },
  "language_info": {
   "codemirror_mode": {
    "name": "ipython",
    "version": 3
   },
   "file_extension": ".py",
   "mimetype": "text/x-python",
   "name": "python",
   "nbconvert_exporter": "python",
   "pygments_lexer": "ipython3",
   "version": "3.10.12"
  }
 },
 "nbformat": 4,
 "nbformat_minor": 2
}
