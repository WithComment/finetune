{
 "cells": [
  {
   "cell_type": "code",
   "execution_count": 1,
   "metadata": {},
   "outputs": [],
   "source": [
    "%load_ext autoreload\n",
    "%autoreload 2\n",
    "\n",
    "import os\n",
    "os.chdir('/projects/cft_vlm/finetune')"
   ]
  },
  {
   "cell_type": "code",
   "execution_count": 2,
   "metadata": {},
   "outputs": [
    {
     "name": "stderr",
     "output_type": "stream",
     "text": [
      "You have video processor config saved in `preprocessor.json` file which is deprecated. Video processor configs should be saved in their own `video_preprocessor.json` file. You can rename the file or load and save the processor back which renames it automatically. Loading from `preprocessor.json` will be removed in v5.0.\n"
     ]
    },
    {
     "data": {
      "application/vnd.jupyter.widget-view+json": {
       "model_id": "836ff8cbdeeb4cebb426cdfe4f7bf18d",
       "version_major": 2,
       "version_minor": 0
      },
      "text/plain": [
       "Loading checkpoint shards:   0%|          | 0/2 [00:00<?, ?it/s]"
      ]
     },
     "metadata": {},
     "output_type": "display_data"
    }
   ],
   "source": [
    "from transformers import AutoProcessor, Qwen2_5_VLForConditionalGeneration\n",
    "import torch\n",
    "\n",
    "\n",
    "processor = AutoProcessor.from_pretrained(\"Qwen/Qwen2.5-VL-3B-Instruct\", use_fast=True)\n",
    "model = Qwen2_5_VLForConditionalGeneration.from_pretrained(\n",
    "  \"Qwen/Qwen2.5-VL-3B-Instruct\",\n",
    "  torch_dtype=torch.bfloat16,\n",
    "  device_map='auto',\n",
    "  attn_implementation='flash_attention_2'\n",
    ")"
   ]
  },
  {
   "cell_type": "code",
   "execution_count": 3,
   "metadata": {},
   "outputs": [
    {
     "data": {
      "text/plain": [
       "{'add_prefix_space': False,\n",
       " '_tokenizer': Tokenizer(version=\"1.0\", truncation=None, padding=None, added_tokens=[{\"id\":151643, \"content\":\"<|endoftext|>\", \"single_word\":False, \"lstrip\":False, \"rstrip\":False, \"normalized\":False, \"special\":True}, {\"id\":151644, \"content\":\"<|im_start|>\", \"single_word\":False, \"lstrip\":False, \"rstrip\":False, \"normalized\":False, \"special\":True}, {\"id\":151645, \"content\":\"<|im_end|>\", \"single_word\":False, \"lstrip\":False, \"rstrip\":False, \"normalized\":False, \"special\":True}, {\"id\":151646, \"content\":\"<|object_ref_start|>\", \"single_word\":False, \"lstrip\":False, \"rstrip\":False, \"normalized\":False, \"special\":True}, {\"id\":151647, \"content\":\"<|object_ref_end|>\", \"single_word\":False, \"lstrip\":False, \"rstrip\":False, \"normalized\":False, \"special\":True}, {\"id\":151648, \"content\":\"<|box_start|>\", \"single_word\":False, \"lstrip\":False, \"rstrip\":False, \"normalized\":False, \"special\":True}, {\"id\":151649, \"content\":\"<|box_end|>\", \"single_word\":False, \"lstrip\":False, \"rstrip\":False, \"normalized\":False, \"special\":True}, {\"id\":151650, \"content\":\"<|quad_start|>\", \"single_word\":False, \"lstrip\":False, \"rstrip\":False, \"normalized\":False, \"special\":True}, {\"id\":151651, \"content\":\"<|quad_end|>\", \"single_word\":False, \"lstrip\":False, \"rstrip\":False, \"normalized\":False, \"special\":True}, {\"id\":151652, \"content\":\"<|vision_start|>\", \"single_word\":False, \"lstrip\":False, \"rstrip\":False, \"normalized\":False, \"special\":True}, {\"id\":151653, \"content\":\"<|vision_end|>\", \"single_word\":False, \"lstrip\":False, \"rstrip\":False, \"normalized\":False, \"special\":True}, {\"id\":151654, \"content\":\"<|vision_pad|>\", \"single_word\":False, \"lstrip\":False, \"rstrip\":False, \"normalized\":False, \"special\":True}, {\"id\":151655, \"content\":\"<|image_pad|>\", \"single_word\":False, \"lstrip\":False, \"rstrip\":False, \"normalized\":False, \"special\":True}, {\"id\":151656, \"content\":\"<|video_pad|>\", \"single_word\":False, \"lstrip\":False, \"rstrip\":False, \"normalized\":False, \"special\":True}, {\"id\":151657, \"content\":\"<tool_call>\", \"single_word\":False, \"lstrip\":False, \"rstrip\":False, \"normalized\":False, \"special\":False}, {\"id\":151658, \"content\":\"</tool_call>\", \"single_word\":False, \"lstrip\":False, \"rstrip\":False, \"normalized\":False, \"special\":False}, {\"id\":151659, \"content\":\"<|fim_prefix|>\", \"single_word\":False, \"lstrip\":False, \"rstrip\":False, \"normalized\":False, \"special\":False}, {\"id\":151660, \"content\":\"<|fim_middle|>\", \"single_word\":False, \"lstrip\":False, \"rstrip\":False, \"normalized\":False, \"special\":False}, {\"id\":151661, \"content\":\"<|fim_suffix|>\", \"single_word\":False, \"lstrip\":False, \"rstrip\":False, \"normalized\":False, \"special\":False}, {\"id\":151662, \"content\":\"<|fim_pad|>\", \"single_word\":False, \"lstrip\":False, \"rstrip\":False, \"normalized\":False, \"special\":False}, {\"id\":151663, \"content\":\"<|repo_name|>\", \"single_word\":False, \"lstrip\":False, \"rstrip\":False, \"normalized\":False, \"special\":False}, {\"id\":151664, \"content\":\"<|file_sep|>\", \"single_word\":False, \"lstrip\":False, \"rstrip\":False, \"normalized\":False, \"special\":False}], normalizer=NFC(), pre_tokenizer=Sequence(pretokenizers=[Split(pattern=Regex(\"(?i:'s|'t|'re|'ve|'m|'ll|'d)|[^\\r\\n\\p{L}\\p{N}]?\\p{L}+|\\p{N}| ?[^\\s\\p{L}\\p{N}]+[\\r\\n]*|\\s*[\\r\\n]+|\\s+(?!\\S)|\\s+\"), behavior=Isolated, invert=False), ByteLevel(add_prefix_space=False, trim_offsets=False, use_regex=False)]), post_processor=ByteLevel(add_prefix_space=False, trim_offsets=False, use_regex=False), decoder=ByteLevel(add_prefix_space=False, trim_offsets=False, use_regex=False), model=BPE(dropout=None, unk_token=None, continuing_subword_prefix=\"\", end_of_word_suffix=\"\", fuse_unk=False, byte_fallback=False, ignore_merges=False, vocab={\"!\":0, \"\"\":1, \"#\":2, \"$\":3, \"%\":4, \"&\":5, \"'\":6, \"(\":7, \")\":8, \"*\":9, \"+\":10, \",\":11, \"-\":12, \".\":13, \"/\":14, \"0\":15, \"1\":16, \"2\":17, \"3\":18, \"4\":19, \"5\":20, \"6\":21, \"7\":22, \"8\":23, \"9\":24, \":\":25, \";\":26, \"<\":27, \"=\":28, \">\":29, \"?\":30, \"@\":31, \"A\":32, \"B\":33, \"C\":34, \"D\":35, \"E\":36, \"F\":37, \"G\":38, \"H\":39, \"I\":40, \"J\":41, \"K\":42, \"L\":43, \"M\":44, \"N\":45, \"O\":46, \"P\":47, \"Q\":48, \"R\":49, \"S\":50, \"T\":51, \"U\":52, \"V\":53, \"W\":54, \"X\":55, \"Y\":56, \"Z\":57, \"[\":58, \"\\\":59, \"]\":60, \"^\":61, \"_\":62, \"`\":63, \"a\":64, \"b\":65, \"c\":66, \"d\":67, \"e\":68, \"f\":69, \"g\":70, \"h\":71, \"i\":72, \"j\":73, \"k\":74, \"l\":75, \"m\":76, \"n\":77, \"o\":78, \"p\":79, \"q\":80, \"r\":81, \"s\":82, \"t\":83, \"u\":84, \"v\":85, \"w\":86, \"x\":87, \"y\":88, \"z\":89, \"{\":90, \"|\":91, \"}\":92, \"~\":93, \"¡\":94, \"¢\":95, \"£\":96, \"¤\":97, \"¥\":98, ...}, merges=[(\"Ġ\", \"Ġ\"), (\"ĠĠ\", \"ĠĠ\"), (\"i\", \"n\"), (\"Ġ\", \"t\"), (\"ĠĠĠĠ\", \"ĠĠĠĠ\"), (\"e\", \"r\"), (\"ĠĠ\", \"Ġ\"), (\"o\", \"n\"), (\"Ġ\", \"a\"), (\"r\", \"e\"), (\"a\", \"t\"), (\"s\", \"t\"), (\"e\", \"n\"), (\"o\", \"r\"), (\"Ġt\", \"h\"), (\"Ċ\", \"Ċ\"), (\"Ġ\", \"c\"), (\"l\", \"e\"), (\"Ġ\", \"s\"), (\"i\", \"t\"), (\"a\", \"n\"), (\"a\", \"r\"), (\"a\", \"l\"), (\"Ġth\", \"e\"), (\";\", \"Ċ\"), (\"Ġ\", \"p\"), (\"Ġ\", \"f\"), (\"o\", \"u\"), (\"Ġ\", \"=\"), (\"i\", \"s\"), (\"ĠĠĠĠ\", \"ĠĠĠ\"), (\"in\", \"g\"), (\"e\", \"s\"), (\"Ġ\", \"w\"), (\"i\", \"on\"), (\"e\", \"d\"), (\"i\", \"c\"), (\"Ġ\", \"b\"), (\"Ġ\", \"d\"), (\"e\", \"t\"), (\"Ġ\", \"m\"), (\"Ġ\", \"o\"), (\"ĉ\", \"ĉ\"), (\"r\", \"o\"), (\"a\", \"s\"), (\"e\", \"l\"), (\"c\", \"t\"), (\"n\", \"d\"), (\"Ġ\", \"in\"), (\"Ġ\", \"h\"), (\"en\", \"t\"), (\"i\", \"d\"), (\"Ġ\", \"n\"), (\"a\", \"m\"), (\"ĠĠĠĠĠĠĠĠ\", \"ĠĠĠ\"), (\"Ġt\", \"o\"), (\"Ġ\", \"re\"), (\"-\", \"-\"), (\"Ġ\", \"{\"), (\"Ġo\", \"f\"), (\"o\", \"m\"), (\")\", \";Ċ\"), (\"i\", \"m\"), (\"č\", \"Ċ\"), (\"Ġ\", \"(\"), (\"i\", \"l\"), (\"/\", \"/\"), (\"Ġa\", \"nd\"), (\"u\", \"r\"), (\"s\", \"e\"), (\"Ġ\", \"l\"), (\"e\", \"x\"), (\"Ġ\", \"S\"), (\"a\", \"d\"), (\"Ġ\", \"\"\"), (\"c\", \"h\"), (\"u\", \"t\"), (\"i\", \"f\"), (\"*\", \"*\"), (\"Ġ\", \"}\"), (\"e\", \"m\"), (\"o\", \"l\"), (\"ĠĠĠĠĠĠĠĠ\", \"ĠĠĠĠĠĠĠĠ\"), (\"t\", \"h\"), (\")\", \"Ċ\"), (\"Ġ{\", \"Ċ\"), (\"Ġ\", \"g\"), (\"i\", \"g\"), (\"i\", \"v\"), (\",\", \"Ċ\"), (\"c\", \"e\"), (\"o\", \"d\"), (\"Ġ\", \"v\"), (\"at\", \"e\"), (\"Ġ\", \"T\"), (\"a\", \"g\"), (\"a\", \"y\"), (\"Ġ\", \"*\"), (\"o\", \"t\"), ...])),\n",
       " '_decode_use_source_tokenizer': False,\n",
       " 'init_inputs': (),\n",
       " 'init_kwargs': {'vocab_file': '/fs01/projects/cft_vlm/.cache/huggingface/hub/models--Qwen--Qwen2.5-VL-3B-Instruct/snapshots/66285546d2b821cf421d4f5eb2576359d3770cd3/vocab.json',\n",
       "  'merges_file': '/fs01/projects/cft_vlm/.cache/huggingface/hub/models--Qwen--Qwen2.5-VL-3B-Instruct/snapshots/66285546d2b821cf421d4f5eb2576359d3770cd3/merges.txt',\n",
       "  'unk_token': None,\n",
       "  'bos_token': None,\n",
       "  'eos_token': AddedToken(\"<|im_end|>\", rstrip=False, lstrip=False, single_word=False, normalized=False, special=True),\n",
       "  'pad_token': AddedToken(\"<|endoftext|>\", rstrip=False, lstrip=False, single_word=False, normalized=False, special=True),\n",
       "  'add_prefix_space': False,\n",
       "  'additional_special_tokens': ['<|im_start|>',\n",
       "   '<|im_end|>',\n",
       "   '<|object_ref_start|>',\n",
       "   '<|object_ref_end|>',\n",
       "   '<|box_start|>',\n",
       "   '<|box_end|>',\n",
       "   '<|quad_start|>',\n",
       "   '<|quad_end|>',\n",
       "   '<|vision_start|>',\n",
       "   '<|vision_end|>',\n",
       "   '<|vision_pad|>',\n",
       "   '<|image_pad|>',\n",
       "   '<|video_pad|>'],\n",
       "  'chat_template': \"{% set image_count = namespace(value=0) %}{% set video_count = namespace(value=0) %}{% for message in messages %}{% if loop.first and message['role'] != 'system' %}<|im_start|>system\\nYou are a helpful assistant.<|im_end|>\\n{% endif %}<|im_start|>{{ message['role'] }}\\n{% if message['content'] is string %}{{ message['content'] }}<|im_end|>\\n{% else %}{% for content in message['content'] %}{% if content['type'] == 'image' or 'image' in content or 'image_url' in content %}{% set image_count.value = image_count.value + 1 %}{% if add_vision_id %}Picture {{ image_count.value }}: {% endif %}<|vision_start|><|image_pad|><|vision_end|>{% elif content['type'] == 'video' or 'video' in content %}{% set video_count.value = video_count.value + 1 %}{% if add_vision_id %}Video {{ video_count.value }}: {% endif %}<|vision_start|><|video_pad|><|vision_end|>{% elif 'text' in content %}{{ content['text'] }}{% endif %}{% endfor %}<|im_end|>\\n{% endif %}{% endfor %}{% if add_generation_prompt %}<|im_start|>assistant\\n{% endif %}\",\n",
       "  'clean_up_tokenization_spaces': False,\n",
       "  'errors': 'replace',\n",
       "  'model_max_length': 131072,\n",
       "  'split_special_tokens': False,\n",
       "  'add_bos_token': False,\n",
       "  'use_fast': True,\n",
       "  'name_or_path': 'Qwen/Qwen2.5-VL-3B-Instruct'},\n",
       " 'name_or_path': 'Qwen/Qwen2.5-VL-3B-Instruct',\n",
       " '_processor_class': None,\n",
       " 'model_max_length': 131072,\n",
       " 'padding_side': 'right',\n",
       " 'truncation_side': 'right',\n",
       " 'model_input_names': ['input_ids', 'attention_mask'],\n",
       " 'clean_up_tokenization_spaces': False,\n",
       " 'split_special_tokens': False,\n",
       " 'deprecation_warnings': {},\n",
       " '_in_target_context_manager': False,\n",
       " 'chat_template': \"{% set image_count = namespace(value=0) %}{% set video_count = namespace(value=0) %}{% for message in messages %}{% if loop.first and message['role'] != 'system' %}<|im_start|>system\\nYou are a helpful assistant.<|im_end|>\\n{% endif %}<|im_start|>{{ message['role'] }}\\n{% if message['content'] is string %}{{ message['content'] }}<|im_end|>\\n{% else %}{% for content in message['content'] %}{% if content['type'] == 'image' or 'image' in content or 'image_url' in content %}{% set image_count.value = image_count.value + 1 %}{% if add_vision_id %}Picture {{ image_count.value }}: {% endif %}<|vision_start|><|image_pad|><|vision_end|>{% elif content['type'] == 'video' or 'video' in content %}{% set video_count.value = video_count.value + 1 %}{% if add_vision_id %}Video {{ video_count.value }}: {% endif %}<|vision_start|><|video_pad|><|vision_end|>{% elif 'text' in content %}{{ content['text'] }}{% endif %}{% endfor %}<|im_end|>\\n{% endif %}{% endfor %}{% if add_generation_prompt %}<|im_start|>assistant\\n{% endif %}\",\n",
       " '_pad_token_type_id': 0,\n",
       " 'verbose': False,\n",
       " '_special_tokens_map': {'bos_token': None,\n",
       "  'eos_token': AddedToken(\"<|im_end|>\", rstrip=False, lstrip=False, single_word=False, normalized=False, special=True),\n",
       "  'unk_token': None,\n",
       "  'sep_token': None,\n",
       "  'pad_token': AddedToken(\"<|endoftext|>\", rstrip=False, lstrip=False, single_word=False, normalized=False, special=True),\n",
       "  'cls_token': None,\n",
       "  'mask_token': None,\n",
       "  'additional_special_tokens': ['<|im_start|>',\n",
       "   '<|im_end|>',\n",
       "   '<|object_ref_start|>',\n",
       "   '<|object_ref_end|>',\n",
       "   '<|box_start|>',\n",
       "   '<|box_end|>',\n",
       "   '<|quad_start|>',\n",
       "   '<|quad_end|>',\n",
       "   '<|vision_start|>',\n",
       "   '<|vision_end|>',\n",
       "   '<|vision_pad|>',\n",
       "   '<|image_pad|>',\n",
       "   '<|video_pad|>']},\n",
       " 'extra_special_tokens': {},\n",
       " 'SPECIAL_TOKENS_ATTRIBUTES': ['bos_token',\n",
       "  'eos_token',\n",
       "  'unk_token',\n",
       "  'sep_token',\n",
       "  'pad_token',\n",
       "  'cls_token',\n",
       "  'mask_token',\n",
       "  'additional_special_tokens']}"
      ]
     },
     "execution_count": 3,
     "metadata": {},
     "output_type": "execute_result"
    }
   ],
   "source": [
    "processor.tokenizer.__dict__"
   ]
  },
  {
   "cell_type": "code",
   "execution_count": 7,
   "metadata": {},
   "outputs": [
    {
     "name": "stdout",
     "output_type": "stream",
     "text": [
      "<|im_start|>system\n",
      "You are a helpful assistant.<|im_end|>\n",
      "<|im_start|>user\n",
      "Describe the video.\n",
      "Video 1: <|vision_start|><|video_pad|><|vision_end|><|im_end|>\n",
      "<|im_start|>assistant\n",
      "This video describes.\n",
      "Video 2: <|vision_start|><|video_pad|><|vision_end|><|im_end|>\n",
      "<|im_start|>assistant\n",
      "\n"
     ]
    },
    {
     "name": "stderr",
     "output_type": "stream",
     "text": [
      "Unused or unrecognized kwargs: return_tensors, fps.\n"
     ]
    },
    {
     "name": "stdout",
     "output_type": "stream",
     "text": [
      "Describe the video.\n",
      "<|vision_start|><|video_pad|><|vision_end|>This video describes.\n",
      "<|vision_start|><|video_pad|><|vision_end|>\n"
     ]
    }
   ],
   "source": [
    "from qwenvl.argument import ProcessingArguments\n",
    "from qwenvl.data.utils import make_model_input\n",
    "from pathlib import Path\n",
    "\n",
    "vid_dir = Path('/projects/cft_vlm/datasets/openbiomedvid/data/vid_segments')\n",
    "\n",
    "conversation = [\n",
    "  {\"role\": \"user\",\n",
    "   \"content\": [\n",
    "    {\n",
    "      'type': 'text',\n",
    "      'text': \"Describe the video.\\n\"\n",
    "    },\n",
    "    {\n",
    "      'type': 'video',\n",
    "      'video': str(vid_dir / '00cD-55fnaw_2590_3016.mp4')\n",
    "    }\n",
    "    ]},\n",
    "  {\"role\": \"assistant\",\n",
    "   \"content\": [\n",
    "    {\n",
    "      'type': 'text',\n",
    "      'text': \"This video describes.\\n\"\n",
    "    },\n",
    "    {\n",
    "      'type': 'video',\n",
    "      'video': str(vid_dir / '01KY3GQKBzg_14_158.mp4')\n",
    "    }\n",
    "    ]},\n",
    "]\n",
    "proc_args = ProcessingArguments()\n",
    "\n",
    "text = processor.apply_chat_template(conversation, add_generation_prompt=True, tokenize=False, add_vision_id=True)\n",
    "print(text)\n",
    "inputs = make_model_input(conversation, processor, proc_args, for_training=False, use_cft=True)"
   ]
  },
  {
   "cell_type": "code",
   "execution_count": 5,
   "metadata": {},
   "outputs": [
    {
     "data": {
      "image/png": "[encoded data removed]",
      "text/plain": [
       "<Figure size 640x480 with 1 Axes>"
      ]
     },
     "metadata": {},
     "output_type": "display_data"
    }
   ],
   "source": [
    "import pickle\n",
    "\n",
    "import matplotlib.pyplot as plt\n",
    "\n",
    "# Load the list of lists of integers\n",
    "with open('/projects/cft_vlm/datasets/open_pmc/data/dataset/bins.pkl', 'rb') as f:\n",
    "  bins = pickle.load(f)\n",
    "\n",
    "# Compute the sum of each list\n",
    "sums = [sum(lst) for lst in bins]\n",
    "\n",
    "# Plot histogram\n",
    "plt.hist(sums, bins=100)\n",
    "plt.xlabel('Sum of List')\n",
    "plt.xlim([0, 200000])  # Adjust x-axis limits as needed\n",
    "plt.ylabel('Frequency')\n",
    "plt.title('Histogram of Sums of Lists in bins.pkl')\n",
    "plt.show()"
   ]
  },
  {
   "cell_type": "code",
   "execution_count": 25,
   "metadata": {},
   "outputs": [
    {
     "name": "stderr",
     "output_type": "stream",
     "text": [
      "/fs01/projects/cft_vlm/.venv/lib/python3.10/site-packages/transformers/generation/utils.py:2479: UserWarning: You are calling .generate() with the `input_ids` being on a device type different than your model's device. `input_ids` is on cpu, whereas the model is on cuda. You may experience unexpected behaviors or slower generation. Please make sure that you have put `input_ids` to the correct device by calling for example input_ids = input_ids.to('cuda') before running `.generate()`.\n",
      "  warnings.warn(\n"
     ]
    },
    {
     "data": {
      "text/plain": [
       "['system\\nYou are a helpful assistant.\\nuser\\nDescribe the video.\\nVideo 1: \\nuser\\nDescribe the video.\\nVideo 2: \\nassistant\\nThe video begins with a title card that reads \"Nick Mamalis, M.D.\" and \"Professor - Department of Ophthalmology/Visual Sciences.\" The card']"
      ]
     },
     "execution_count": 25,
     "metadata": {},
     "output_type": "execute_result"
    }
   ],
   "source": [
    "with torch.inference_mode():\n",
    "  gen_config = model.generation_config\n",
    "  gen_config.max_new_tokens = 32\n",
    "  \n",
    "  outputs = model.generate(\n",
    "    **inputs,\n",
    "    generation_config=gen_config,\n",
    "  )\n",
    "\n",
    "processor.batch_decode(outputs, skip_special_tokens=True)"
   ]
  },
  {
   "cell_type": "code",
   "execution_count": 15,
   "metadata": {},
   "outputs": [
    {
     "data": {
      "text/plain": [
       "{'input_ids': tensor([[151644,   8948,    198,  ..., 151653, 151645,    198]]), 'attention_mask': tensor([[1, 1, 1,  ..., 1, 1, 1]]), 'pixel_values_videos': tensor([[ 1.8865,  1.8865,  1.8865,  ...,  2.0890,  2.0890,  2.0890],\n",
       "        [ 1.8865,  1.8865,  1.8865,  ...,  2.0890,  2.0890,  2.0890],\n",
       "        [ 1.8281,  1.8281,  1.8281,  ...,  2.0464,  2.0464,  2.0464],\n",
       "        ...,\n",
       "        [-1.6171, -1.6171, -1.6171,  ..., -1.2385, -1.2385, -1.2385],\n",
       "        [-1.5587, -1.5587, -1.5733,  ..., -1.2385, -1.2385, -1.2385],\n",
       "        [-1.6609, -1.6609, -1.6609,  ..., -1.2527, -1.2527, -1.2527]]), 'video_grid_thw': tensor([[15, 26, 46],\n",
       "        [15, 26, 46]]), 'second_per_grid_ts': tensor([28.3667,  9.5667]), 'labels': tensor([[-100, -100, -100,  ..., -100, -100, -100]])}"
      ]
     },
     "execution_count": 15,
     "metadata": {},
     "output_type": "execute_result"
    }
   ],
   "source": [
    "inputs"
   ]
  },
  {
   "cell_type": "code",
   "execution_count": 23,
   "metadata": {},
   "outputs": [],
   "source": [
    "# ...existing code...\n",
    "\n",
    "import torch\n",
    "\n",
    "from transformers.modeling_outputs import BaseModelOutputWithPast\n",
    "\n",
    "def decode_tokens(tokenizer, tensor):\n",
    "  if tensor is None:\n",
    "    return None\n",
    "  if tensor.ndim > 1:\n",
    "    tensor = tensor[0]\n",
    "  return tokenizer.decode(tensor.tolist(), skip_special_tokens=True)\n",
    "\n",
    "\n",
    "# Prepare storage for hooks\n",
    "record = {}\n",
    "\n",
    "def get_output_hook(name):\n",
    "  def hook(module, input, output):\n",
    "    if isinstance(output, BaseModelOutputWithPast):\n",
    "      output = output['last_hidden_state']\n",
    "      \n",
    "    record[f\"{name}_output\"] = output.detach().cpu()\n",
    "  return hook\n",
    "\n",
    "\n",
    "# Attach hooks\n",
    "lang_hook = model.language_model.register_forward_hook(\n",
    "    get_output_hook(\"language_model\")\n",
    ")\n",
    "vis_hook = model.visual.register_forward_hook(\n",
    "    get_output_hook(\"visual\")\n",
    ")\n",
    "\n",
    "# Run forward pass\n",
    "try:\n",
    "  with torch.no_grad():\n",
    "    outputs = model(**inputs)\n",
    "except Exception as e:\n",
    "  raise e\n",
    "finally:\n",
    "  # Remove hooks\n",
    "  lang_hook.remove()\n",
    "  vis_hook.remove()\n",
    "\n",
    "# Get logits and decode output tokens\n",
    "logits = outputs.logits\n",
    "output_ids = logits.argmax(-1)\n",
    "decoded_output = decode_tokens(processor.tokenizer, output_ids)"
   ]
  },
  {
   "cell_type": "code",
   "execution_count": 11,
   "metadata": {},
   "outputs": [
    {
     "data": {
      "text/plain": [
       "torch.Size([1, 47, 151936])"
      ]
     },
     "execution_count": 11,
     "metadata": {},
     "output_type": "execute_result"
    }
   ],
   "source": [
    "outputs['logits'].shape"
   ]
  },
  {
   "cell_type": "code",
   "execution_count": 33,
   "metadata": {},
   "outputs": [],
   "source": [
    "image_pad_token = processor.image_token_id\n",
    "img_token_locs = torch.where(inputs['input_ids'] == image_pad_token)\n",
    "img_token_locs = (img_token_locs[0][:-1], img_token_locs[1][:-1])"
   ]
  },
  {
   "cell_type": "code",
   "execution_count": 37,
   "metadata": {},
   "outputs": [],
   "source": [
    "# Get the image tokens from the inputs\n",
    "img_predict = record['language_model_output'][img_token_locs]\n",
    "img_targets = record['visual_output'][1:]"
   ]
  },
  {
   "cell_type": "code",
   "execution_count": 39,
   "metadata": {},
   "outputs": [
    {
     "data": {
      "text/plain": [
       "0.06591796875"
      ]
     },
     "execution_count": 39,
     "metadata": {},
     "output_type": "execute_result"
    }
   ],
   "source": [
    "torch.nn.functional.cosine_similarity(\n",
    "    img_predict, img_targets, dim=-1\n",
    ").mean().item()"
   ]
  },
  {
   "cell_type": "code",
   "execution_count": null,
   "metadata": {},
   "outputs": [],
   "source": [
    "token_predict = record['language_model_output']"
   ]
  }
 ],
 "metadata": {
  "kernelspec": {
   "display_name": "cft_vlm",
   "language": "python",
   "name": "cft_vlm"
  },
  "language_info": {
   "codemirror_mode": {
    "name": "ipython",
    "version": 3
   },
   "file_extension": ".py",
   "mimetype": "text/x-python",
   "name": "python",
   "nbconvert_exporter": "python",
   "pygments_lexer": "ipython3",
   "version": "3.10.12"
  }
 },
 "nbformat": 4,
 "nbformat_minor": 2
}
