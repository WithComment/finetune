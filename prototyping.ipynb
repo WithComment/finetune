{
 "cells": [
  {
   "cell_type": "code",
   "execution_count": 1,
   "metadata": {},
   "outputs": [],
   "source": [
    "%load_ext autoreload\n",
    "%autoreload 2\n",
    "\n",
    "import os\n",
    "os.chdir('/projects/cft_vlm/finetune')\n",
    "import datasets"
   ]
  },
  {
   "cell_type": "code",
   "execution_count": null,
   "metadata": {},
   "outputs": [],
   "source": [
    "import random\n",
    "from qwenvl.data import avail_datasets\n",
    "\n",
    "ds_config = avail_datasets['open-pmc-tiny']\n",
    "ds = datasets.load_dataset(ds_config['ds_key'])\n",
    "for k in ds:\n",
    "  n = len(ds[k])\n",
    "  ds[k] = ds[k].select(random.sample(n), n * 0.01)\n",
    "\n",
    "ds.save_to_disk(ds_config['ds_dir'])"
   ]
  }
 ],
 "metadata": {
  "kernelspec": {
   "display_name": "cft_vlm",
   "language": "python",
   "name": "cft_vlm"
  },
  "language_info": {
   "codemirror_mode": {
    "name": "ipython",
    "version": 3
   },
   "file_extension": ".py",
   "mimetype": "text/x-python",
   "name": "python",
   "nbconvert_exporter": "python",
   "pygments_lexer": "ipython3",
   "version": "3.10.12"
  }
 },
 "nbformat": 4,
 "nbformat_minor": 2
}
